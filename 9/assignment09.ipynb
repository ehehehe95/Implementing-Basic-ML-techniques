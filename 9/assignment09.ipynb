{
 "cells": [
  {
   "cell_type": "code",
   "execution_count": 1,
   "metadata": {},
   "outputs": [],
   "source": [
    "import torch\n",
    "from torch import nn\n",
    "from torchvision import datasets, transforms\n",
    "import torch.nn.functional as F\n",
    "import numpy as np\n",
    "import matplotlib.pyplot as plt"
   ]
  },
  {
   "cell_type": "code",
   "execution_count": 2,
   "metadata": {},
   "outputs": [],
   "source": [
    "transform = transforms.Compose([\n",
    "    transforms.ToTensor(),\n",
    "    transforms.Normalize((0.1307,),(0.3081,)),  # mean value = 0.1307, standard deviation value = 0.3081\n",
    "])\n"
   ]
  },
  {
   "cell_type": "code",
   "execution_count": 3,
   "metadata": {},
   "outputs": [],
   "source": [
    "data_path = './MNIST'\n",
    "\n",
    "training_set = datasets.MNIST(root = data_path, train= True, download=True, transform= transform)\n",
    "testing_set = datasets.MNIST(root = data_path, train= False, download=True, transform= transform)\n"
   ]
  },
  {
   "cell_type": "code",
   "execution_count": 4,
   "metadata": {},
   "outputs": [
    {
     "data": {
      "text/plain": [
       "5"
      ]
     },
     "execution_count": 4,
     "metadata": {},
     "output_type": "execute_result"
    }
   ],
   "source": [
    "training_set[0][0]\n",
    "training_set[0][1]\n",
    "# training_set is composed of image and label"
   ]
  },
  {
   "cell_type": "code",
   "execution_count": 5,
   "metadata": {},
   "outputs": [
    {
     "data": {
      "text/plain": [
       "torch.Tensor"
      ]
     },
     "execution_count": 5,
     "metadata": {},
     "output_type": "execute_result"
    }
   ],
   "source": [
    "type(training_set[0][0])\n",
    "#already tensor, no need to convert"
   ]
  },
  {
   "cell_type": "code",
   "execution_count": 6,
   "metadata": {},
   "outputs": [],
   "source": [
    "class classification(nn.Module):\n",
    "    def __init__(self):\n",
    "        super(classification, self).__init__()\n",
    "        \n",
    "        # construct layers for a neural network\n",
    "        self.classifier1 = nn.Sequential(\n",
    "            nn.Linear(in_features=28*28, out_features=20*20),\n",
    "            nn.Sigmoid(),\n",
    "        ) \n",
    "        self.classifier2 = nn.Sequential(\n",
    "            nn.Linear(in_features=20*20, out_features=10*10),\n",
    "            nn.Sigmoid(),\n",
    "        ) \n",
    "        self.classifier3 = nn.Sequential(\n",
    "            nn.Linear(in_features=10*10, out_features=10),\n",
    "            nn.LogSoftmax(dim=1),\n",
    "        ) \n",
    "        \n",
    "        \n",
    "    def forward(self, inputs):                 # [batchSize, 1, 28, 28]\n",
    "        x = inputs.view(inputs.size(0), -1)    # [batchSize, 28*28]\n",
    "        x = self.classifier1(x)                # [batchSize, 20*20]\n",
    "        x = self.classifier2(x)                # [batchSize, 10*10]\n",
    "        out = self.classifier3(x)              # [batchSize, 10]\n",
    "        \n",
    "        return out\n"
   ]
  },
  {
   "cell_type": "code",
   "execution_count": 7,
   "metadata": {},
   "outputs": [],
   "source": [
    "criterion = nn.NLLLoss()"
   ]
  },
  {
   "cell_type": "code",
   "execution_count": 8,
   "metadata": {},
   "outputs": [],
   "source": [
    "device=\"cuda\"\n",
    "learning_rate_value=0.01"
   ]
  },
  {
   "cell_type": "code",
   "execution_count": 10,
   "metadata": {},
   "outputs": [],
   "source": [
    "classifier = classification().to(device)\n",
    "optimizer = torch.optim.SGD(classifier.parameters(), lr=learning_rate_value)\n"
   ]
  },
  {
   "cell_type": "code",
   "execution_count": 26,
   "metadata": {},
   "outputs": [
    {
     "name": "stdout",
     "output_type": "stream",
     "text": [
      "train loss 2.162510122426351\n",
      "train accuracy:  0.33133333921432495\n",
      "test loss 2.328827745236528\n",
      "test accuracy 0.0957999974489212\n",
      "train loss 0.3922239746928215\n",
      "train accuracy:  0.8904666900634766\n",
      "test loss 0.39759937780924115\n",
      "test accuracy 0.8880999684333801\n",
      "train loss 0.28710817177295683\n",
      "train accuracy:  0.9175666570663452\n",
      "test loss 0.2853447726121345\n",
      "test accuracy 0.9181999564170837\n",
      "train loss 0.23485755263765654\n",
      "train accuracy:  0.9319833517074585\n",
      "test loss 0.23567627074000552\n",
      "test accuracy 0.9317999482154846\n",
      "train loss 0.19565650023519993\n",
      "train accuracy:  0.9444000124931335\n",
      "test loss 0.19924304360589282\n",
      "test accuracy 0.9417999982833862\n",
      "train loss 0.16495847398390373\n",
      "train accuracy:  0.9535666704177856\n",
      "test loss 0.17068756078355038\n",
      "test accuracy 0.9493999481201172\n"
     ]
    }
   ],
   "source": [
    "#start training with batchsize 32\n",
    "classifier = classification().to(\"cuda\")\n",
    "optimizer = torch.optim.SGD(classifier.parameters(), lr=learning_rate_value)\n",
    "criterion = nn.NLLLoss()\n",
    "batch_size=32\n",
    "epoch = 30\n",
    "loss_train_arr=np.zeros(epoch)\n",
    "accuracy_train_arr=np.zeros(epoch)\n",
    "loss_test_arr=np.zeros(epoch)\n",
    "accuracy_test_arr=np.zeros(epoch)\n",
    "\n",
    "batched_train = torch.utils.data.DataLoader(training_set, 32, shuffle=True)\n",
    "batched_test = torch.utils.data.DataLoader(testing_set, 32, shuffle=True)\n",
    "\n",
    "for i in range(epoch):\n",
    "    \n",
    "    #test, no need to backward, step\n",
    "    loss_test=0\n",
    "    accuracy_test=0\n",
    "    \n",
    "    for img, label in batched_test:\n",
    "        img=img.to(device)\n",
    "        label=label.to(device)\n",
    "        \n",
    "        predicted = classifier(img)\n",
    "        label_predicted = torch.argmax(predicted,dim=1)\n",
    "        loss = criterion(predicted, label)\n",
    "        \n",
    "        loss_test += loss.item()\n",
    "        accuracy_test += torch.sum(label_predicted==label)\n",
    "        \n",
    "    loss_test_arr[i]=loss_test/(len(batched_test))\n",
    "    accuracy_test_arr[i]=accuracy_test/len(batched_test.dataset)\n",
    "    \n",
    "    \n",
    "    loss_train=0\n",
    "    accuracy_train=0\n",
    "    \n",
    "    #train and compute loss, accuracy\n",
    "    for img, label in batched_train:\n",
    "        img=img.to(device)\n",
    "        label=label.to(device)\n",
    "        optimizer.zero_grad()\n",
    "        predicted = classifier(img)\n",
    "\n",
    "        label_predicted = torch.argmax(predicted,dim=1)\n",
    "        loss = criterion(predicted, label)\n",
    "        loss.backward()\n",
    "        optimizer.step()\n",
    "        \n",
    "        loss_train += loss.item()\n",
    "        accuracy_train += torch.sum(label_predicted==label)\n",
    "        \n",
    "\n",
    "    loss_train_arr[i]=loss_train/(len(batched_train)) #number of batch\n",
    "    accuracy_train_arr[i]=accuracy_train/len(batched_train.dataset)\n",
    "    \n",
    "\n",
    "    \n",
    "    \n",
    "    \n",
    "    if i%5==0:\n",
    "        print(\"train loss\", loss_train_arr[i])\n",
    "        print(\"train accuracy: \",accuracy_train_arr[i])\n",
    "        print(\"test loss\", loss_test_arr[i])\n",
    "        print(\"test accuracy\", accuracy_test_arr[i])\n",
    "    \n",
    "    "
   ]
  },
  {
   "cell_type": "code",
   "execution_count": 41,
   "metadata": {},
   "outputs": [],
   "source": [
    "import time\n",
    "def startTraining(batch_size,epoch,learning_rate_value):\n",
    "    #start training with batchsize 32\n",
    "    start_time = time.time()\n",
    "    print(\"start training for batch size \",batch_size)\n",
    "    \n",
    "    classifier = classification().to(\"cuda\")\n",
    "    optimizer = torch.optim.SGD(classifier.parameters(), lr=learning_rate_value)\n",
    "    criterion = nn.NLLLoss()\n",
    "    \n",
    "    #define array to save values\n",
    "    \n",
    "    loss_train_arr=np.zeros(epoch)\n",
    "    accuracy_train_arr=np.zeros(epoch)\n",
    "    loss_test_arr=np.zeros(epoch)\n",
    "    accuracy_test_arr=np.zeros(epoch)\n",
    "\n",
    "    batched_train = torch.utils.data.DataLoader(training_set, batch_size, shuffle=True)\n",
    "    batched_test = torch.utils.data.DataLoader(testing_set, batch_size, shuffle=True)\n",
    "\n",
    "    for i in range(epoch):\n",
    "        \n",
    "        loss_train=0\n",
    "        accuracy_train=0\n",
    "        loss_test=0\n",
    "        accuracy_test=0\n",
    "        \n",
    "        #test, no need to backward, step\n",
    "        for img, label in batched_test:\n",
    "            img=img.to(device)\n",
    "            label=label.to(device)\n",
    "\n",
    "            predicted = classifier(img)\n",
    "            label_predicted = torch.argmax(predicted,dim=1)\n",
    "            loss = criterion(predicted, label)\n",
    "\n",
    "            loss_test += loss.item()\n",
    "            accuracy_test += torch.sum(label_predicted==label)\n",
    "\n",
    "        loss_test_arr[i]=loss_test/(len(batched_test))\n",
    "        accuracy_test_arr[i]=accuracy_test/len(batched_test.dataset)\n",
    "        \n",
    "        #train and compute loss, accuracy\n",
    "        for img, label in batched_train:\n",
    "            img=img.to(device)\n",
    "            label=label.to(device)\n",
    "            optimizer.zero_grad()\n",
    "            predicted = classifier(img)\n",
    "\n",
    "            label_predicted = torch.argmax(predicted,dim=1)\n",
    "            loss = criterion(predicted, label)\n",
    "            loss.backward()\n",
    "            optimizer.step()\n",
    "\n",
    "            loss_train += loss.item()\n",
    "            accuracy_train += torch.sum(label_predicted==label)\n",
    "\n",
    "\n",
    "        loss_train_arr[i]=loss_train/(len(batched_train)) \n",
    "        accuracy_train_arr[i]=accuracy_train/len(batched_train.dataset)\n",
    "\n",
    "\n",
    "\n",
    "        \n",
    "\n",
    "        if i%5==0:\n",
    "            print(\"train loss\", loss_train_arr[i])\n",
    "            print(\"train accuracy: \",accuracy_train_arr[i])\n",
    "            print(\"test loss\", loss_test_arr[i])\n",
    "            print(\"test accuracy\", accuracy_test_arr[i])\n",
    "    print(\"execution time =======\", time.time()-start_time)\n",
    "    \n",
    "    return loss_train_arr, loss_test_arr, accuracy_train_arr, accuracy_test_arr\n"
   ]
  },
  {
   "cell_type": "code",
   "execution_count": 42,
   "metadata": {},
   "outputs": [
    {
     "data": {
      "text/plain": [
       "313"
      ]
     },
     "execution_count": 42,
     "metadata": {},
     "output_type": "execute_result"
    }
   ],
   "source": [
    "len(batched_test)"
   ]
  },
  {
   "cell_type": "code",
   "execution_count": 28,
   "metadata": {},
   "outputs": [
    {
     "data": {
      "text/plain": [
       "[<matplotlib.lines.Line2D at 0x24d35c82910>]"
      ]
     },
     "execution_count": 28,
     "metadata": {},
     "output_type": "execute_result"
    },
    {
     "data": {
      "image/png": "[encoded data removed]",
      "text/plain": [
       "<Figure size 432x288 with 1 Axes>"
      ]
     },
     "metadata": {
      "needs_background": "light"
     },
     "output_type": "display_data"
    }
   ],
   "source": [
    "plt.plot(accuracy_train_arr)\n",
    "plt.plot(accuracy_test_arr)\n"
   ]
  },
  {
   "cell_type": "code",
   "execution_count": 31,
   "metadata": {},
   "outputs": [
    {
     "data": {
      "text/plain": [
       "<matplotlib.legend.Legend at 0x24d446cfb80>"
      ]
     },
     "execution_count": 31,
     "metadata": {},
     "output_type": "execute_result"
    },
    {
     "data": {
      "image/png": "[encoded data removed]",
      "text/plain": [
       "<Figure size 432x288 with 1 Axes>"
      ]
     },
     "metadata": {
      "needs_background": "light"
     },
     "output_type": "display_data"
    }
   ],
   "source": [
    "plt.plot(loss_train_arr,label=\"train\")\n",
    "plt.plot(loss_test_arr,label=\"test\")\n",
    "plt.legend()"
   ]
  },
  {
   "cell_type": "code",
   "execution_count": 35,
   "metadata": {},
   "outputs": [
    {
     "data": {
      "text/plain": [
       "0.14536274313529332"
      ]
     },
     "execution_count": 35,
     "metadata": {},
     "output_type": "execute_result"
    }
   ],
   "source": []
  },
  {
   "cell_type": "code",
   "execution_count": null,
   "metadata": {},
   "outputs": [
    {
     "name": "stdout",
     "output_type": "stream",
     "text": [
      "start training for batch size  32\n",
      "train loss 2.1778733839670816\n",
      "train accuracy:  0.3093833327293396\n",
      "test loss 2.3686002237728228\n",
      "test accuracy 0.10279999673366547\n",
      "train loss 0.3967834216515223\n",
      "train accuracy:  0.8909167051315308\n",
      "test loss 0.4063619066731998\n",
      "test accuracy 0.8894000053405762\n",
      "train loss 0.29037976877888044\n",
      "train accuracy:  0.9172666668891907\n",
      "test loss 0.28765475959442677\n",
      "test accuracy 0.91839998960495\n",
      "train loss 0.2374424964706103\n",
      "train accuracy:  0.9314333200454712\n",
      "test loss 0.23902242648572966\n",
      "test accuracy 0.9303999543190002\n",
      "train loss 0.19752160049974918\n",
      "train accuracy:  0.9434166550636292\n",
      "test loss 0.20126385126893703\n",
      "test accuracy 0.9432999491691589\n",
      "train loss 0.16648251870274544\n",
      "train accuracy:  0.9529833197593689\n",
      "test loss 0.17197511536173357\n",
      "test accuracy 0.9513999819755554\n",
      "train loss 0.142207479181389\n",
      "train accuracy:  0.9598667025566101\n",
      "test loss 0.15041821867751237\n",
      "test accuracy 0.9564999938011169\n",
      "train loss 0.12322196636001269\n",
      "train accuracy:  0.9654666781425476\n",
      "test loss 0.1346819238683667\n",
      "test accuracy 0.9617999792098999\n",
      "train loss 0.10774660308311383\n",
      "train accuracy:  0.9700000286102295\n",
      "test loss 0.12040452363070683\n",
      "test accuracy 0.9656999707221985\n",
      "train loss 0.09508811614960432\n",
      "train accuracy:  0.9738500118255615\n",
      "test loss 0.11030220384069811\n",
      "test accuracy 0.9679999947547913\n",
      "train loss 0.08457024821142356\n",
      "train accuracy:  0.9771000146865845\n",
      "test loss 0.10248238637971992\n",
      "test accuracy 0.9702999591827393\n",
      "train loss 0.07561313004319867\n",
      "train accuracy:  0.9797000288963318\n",
      "test loss 0.0958287155556198\n",
      "test accuracy 0.9717999696731567\n",
      "execution time ======= 886.7253425121307\n",
      "start training for batch size  64\n",
      "train loss 2.261819417034385\n",
      "train accuracy:  0.23383334279060364\n",
      "test loss 2.328240689198682\n",
      "test accuracy 0.10089999437332153\n",
      "train loss 0.6459624820363039\n",
      "train accuracy:  0.8320333361625671\n",
      "test loss 0.6936956970555008\n",
      "test accuracy 0.8234999775886536\n",
      "train loss 0.39830887759291034\n",
      "train accuracy:  0.8895833492279053\n",
      "test loss 0.3966405465724362\n",
      "test accuracy 0.8894000053405762\n",
      "train loss 0.32738641120477524\n",
      "train accuracy:  0.9067833423614502\n",
      "test loss 0.3232236623194567\n",
      "test accuracy 0.9078999757766724\n",
      "train loss 0.2884117619299304\n",
      "train accuracy:  0.9167500138282776\n",
      "test loss 0.285031235521766\n",
      "test accuracy 0.9192999601364136\n",
      "train loss 0.2598984393118414\n",
      "train accuracy:  0.9246833324432373\n",
      "test loss 0.25739703711810386\n",
      "test accuracy 0.9247999787330627\n",
      "train loss 0.23598831930934494\n",
      "train accuracy:  0.9319999814033508\n",
      "test loss 0.23500291400464476\n",
      "test accuracy 0.9302999973297119\n",
      "train loss 0.21530316500013064\n",
      "train accuracy:  0.9378166794776917\n",
      "test loss 0.2159052690028385\n",
      "test accuracy 0.9369999766349792\n",
      "train loss 0.1968362330794652\n",
      "train accuracy:  0.9437333345413208\n",
      "test loss 0.1986809138706915\n",
      "test accuracy 0.9422999620437622\n",
      "train loss 0.18070173368795212\n",
      "train accuracy:  0.9488000273704529\n",
      "test loss 0.18359483700174434\n",
      "test accuracy 0.9456999897956848\n",
      "train loss 0.1663135444082177\n",
      "train accuracy:  0.9531999826431274\n",
      "test loss 0.17074031921423924\n",
      "test accuracy 0.9492999911308289\n",
      "train loss 0.1538283112508529\n",
      "train accuracy:  0.9566166996955872\n",
      "test loss 0.16118168966120974\n",
      "test accuracy 0.9530999660491943\n",
      "execution time ======= 776.1704597473145\n",
      "start training for batch size  128\n",
      "train loss 2.286588642388773\n",
      "train accuracy:  0.13878333568572998\n",
      "test loss 2.3576745896399776\n",
      "test accuracy 0.0973999947309494\n",
      "train loss 1.3329324806168643\n",
      "train accuracy:  0.6581666469573975\n",
      "test loss 1.465902406958085\n",
      "test accuracy 0.6297000050544739\n",
      "train loss 0.6634782142857752\n",
      "train accuracy:  0.8315500020980835\n",
      "test loss 0.6905870950674708\n",
      "test accuracy 0.8294000029563904\n",
      "train loss 0.47094383041487575\n",
      "train accuracy:  0.8744500279426575\n",
      "test loss 0.4702064183693898\n",
      "test accuracy 0.8739999532699585\n",
      "train loss 0.39460509469005856\n",
      "train accuracy:  0.8910666704177856\n",
      "test loss 0.3888620930381968\n",
      "test accuracy 0.8934999704360962\n",
      "train loss 0.35427359461403096\n",
      "train accuracy:  0.9000000357627869\n",
      "test loss 0.346024553798422\n",
      "test accuracy 0.9025999903678894\n",
      "train loss 0.3278260150634404\n",
      "train accuracy:  0.9062833189964294\n",
      "test loss 0.32145570576945437\n",
      "test accuracy 0.9070999622344971\n",
      "train loss 0.3075674941608392\n",
      "train accuracy:  0.9114500284194946\n",
      "test loss 0.29854269250284265\n",
      "test accuracy 0.9128999710083008\n",
      "train loss 0.2907983909315392\n",
      "train accuracy:  0.9156833291053772\n",
      "test loss 0.2833350146118599\n",
      "test accuracy 0.9176999926567078\n",
      "train loss 0.2759704693421118\n",
      "train accuracy:  0.9200833439826965\n",
      "test loss 0.2685728615880767\n",
      "test accuracy 0.9208999872207642\n",
      "train loss 0.26258985359849196\n",
      "train accuracy:  0.923799991607666\n",
      "test loss 0.2577268049309525\n",
      "test accuracy 0.9236999750137329\n"
     ]
    }
   ],
   "source": [
    "loss_train_32,loss_test_32,acc_train_32,acc_test_32 = startTraining(32,60,0.01)\n",
    "loss_train_64,loss_test_64,acc_train_64,acc_test_64 = startTraining(64,60,0.01)\n",
    "loss_train_128,loss_test_128,acc_train_128,acc_test_128 = startTraining(128,60,0.01)"
   ]
  },
  {
   "cell_type": "code",
   "execution_count": 59,
   "metadata": {},
   "outputs": [
    {
     "ename": "TypeError",
     "evalue": "'DataLoader' object is not subscriptable",
     "output_type": "error",
     "traceback": [
      "\u001b[1;31m---------------------------------------------------------------------------\u001b[0m",
      "\u001b[1;31mTypeError\u001b[0m                                 Traceback (most recent call last)",
      "\u001b[1;32m<ipython-input-59-72df9ac95f9b>\u001b[0m in \u001b[0;36m<module>\u001b[1;34m\u001b[0m\n\u001b[0;32m      1\u001b[0m \u001b[0mbatched_train\u001b[0m \u001b[1;33m=\u001b[0m \u001b[0mtorch\u001b[0m\u001b[1;33m.\u001b[0m\u001b[0mutils\u001b[0m\u001b[1;33m.\u001b[0m\u001b[0mdata\u001b[0m\u001b[1;33m.\u001b[0m\u001b[0mDataLoader\u001b[0m\u001b[1;33m(\u001b[0m\u001b[0mtraining_set\u001b[0m\u001b[1;33m,\u001b[0m \u001b[1;36m32\u001b[0m\u001b[1;33m,\u001b[0m \u001b[0mshuffle\u001b[0m\u001b[1;33m=\u001b[0m\u001b[1;32mTrue\u001b[0m\u001b[1;33m)\u001b[0m\u001b[1;33m\u001b[0m\u001b[1;33m\u001b[0m\u001b[0m\n\u001b[1;32m----> 2\u001b[1;33m \u001b[0mbatched_train\u001b[0m\u001b[1;33m[\u001b[0m\u001b[1;36m0\u001b[0m\u001b[1;33m]\u001b[0m\u001b[1;33m\u001b[0m\u001b[1;33m\u001b[0m\u001b[0m\n\u001b[0m",
      "\u001b[1;31mTypeError\u001b[0m: 'DataLoader' object is not subscriptable"
     ]
    }
   ],
   "source": []
  },
  {
   "cell_type": "code",
   "execution_count": 57,
   "metadata": {},
   "outputs": [],
   "source": [
    "train_data_loader = torch.utils.data.DataLoader(training_set, 32, shuffle=True)\n"
   ]
  },
  {
   "cell_type": "code",
   "execution_count": 61,
   "metadata": {},
   "outputs": [
    {
     "name": "stdout",
     "output_type": "stream",
     "text": [
      "torch.Size([32, 1, 28, 28])\n"
     ]
    }
   ],
   "source": [
    "example_mini_batch_img, example_mini_batch_label  = next(iter(train_data_loader))\n",
    "print(example_mini_batch_img.shape)"
   ]
  },
  {
   "cell_type": "code",
   "execution_count": null,
   "metadata": {},
   "outputs": [],
   "source": [
    "def run_epoch (model, train_data, test_data, optimizer, criterion):\n",
    "    \n",
    "    for img_i, label_i in train_data:\n",
    "\n",
    "        img_i, label_i = img_i.to(device), label_i.to(device)\n",
    "\n",
    "        optimizer.zero_grad()\n",
    "\n",
    "        # Forward\n",
    "        label_predicted = mlp.forward(img_i.view(-1, 28*28))\n",
    "        # Loss computation\n",
    "        loss  = criterion(torch.log(label_predicted), label_i.view(-1))\n",
    "        # Backward\n",
    "        loss.backward()\n",
    "        # Optimize for img_i\n",
    "        optimizer.step()\n",
    "    \n",
    "    total_test_loss = 0\n",
    "    for img_j, label_j in test_data:\n",
    "\n",
    "        img_j, label_j = img_j.to(device), label_j.to(device)\n",
    "\n",
    "        with torch.autograd.no_grad():\n",
    "            label_predicted = mlp.forward(img_j.view(-1, 28*28))\n",
    "            total_test_loss  += criterion(torch.log(label_predicted), label_j.view(-1)).item()\n",
    "\n",
    "    end_time = time.time()\n",
    "    return total_test_loss, (end_time - start_time)\n",
    "\n",
    "\n",
    "optimizer = optim.Adam(mlp.parameters(), lr=0.0001)\n",
    "criterion = nn.NLLLoss()\n",
    "\n",
    "for epoch in range(3):\n",
    "    test_loss, response = run_epoch (mlp, train_data, test_data, optimizer, criterion)\n",
    "    print('epoch ', epoch, ': ')\n",
    "    print('\\ttest_loss: ', test_loss)\n",
    "    print('\\tresponse(s): ', response)"
   ]
  },
  {
   "cell_type": "code",
   "execution_count": 25,
   "metadata": {},
   "outputs": [
    {
     "data": {
      "text/plain": [
       "Dataset MNIST\n",
       "    Number of datapoints: 60000\n",
       "    Root location: ./MNIST\n",
       "    Split: Train\n",
       "    StandardTransform\n",
       "Transform: Compose(\n",
       "               ToTensor()\n",
       "               Normalize(mean=(0.1307,), std=(0.3081,))\n",
       "           )"
      ]
     },
     "execution_count": 25,
     "metadata": {},
     "output_type": "execute_result"
    }
   ],
   "source": []
  },
  {
   "cell_type": "code",
   "execution_count": null,
   "metadata": {},
   "outputs": [],
   "source": []
  },
  {
   "cell_type": "code",
   "execution_count": null,
   "metadata": {},
   "outputs": [],
   "source": []
  },
  {
   "cell_type": "code",
   "execution_count": null,
   "metadata": {},
   "outputs": [],
   "source": []
  }
 ],
 "metadata": {
  "kernelspec": {
   "display_name": "Python 3",
   "language": "python",
   "name": "python3"
  },
  "language_info": {
   "codemirror_mode": {
    "name": "ipython",
    "version": 3
   },
   "file_extension": ".py",
   "mimetype": "text/x-python",
   "name": "python",
   "nbconvert_exporter": "python",
   "pygments_lexer": "ipython3",
   "version": "3.8.3"
  }
 },
 "nbformat": 4,
 "nbformat_minor": 4
}
