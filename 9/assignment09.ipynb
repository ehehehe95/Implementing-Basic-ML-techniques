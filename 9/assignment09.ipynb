{
 "cells": [
  {
   "cell_type": "code",
   "execution_count": 1,
   "metadata": {},
   "outputs": [],
   "source": [
    "import torch\n",
    "from torch import nn\n",
    "from torchvision import datasets, transforms\n",
    "import torch.nn.functional as F\n",
    "import numpy as np\n",
    "import matplotlib.pyplot as plt"
   ]
  },
  {
   "cell_type": "code",
   "execution_count": 2,
   "metadata": {},
   "outputs": [],
   "source": [
    "transform = transforms.Compose([\n",
    "    transforms.ToTensor(),\n",
    "    transforms.Normalize((0.1307,),(0.3081,)),  # mean value = 0.1307, standard deviation value = 0.3081\n",
    "])\n"
   ]
  },
  {
   "cell_type": "code",
   "execution_count": 3,
   "metadata": {},
   "outputs": [],
   "source": [
    "data_path = './MNIST'\n",
    "\n",
    "training_set = datasets.MNIST(root = data_path, train= True, download=True, transform= transform)\n",
    "testing_set = datasets.MNIST(root = data_path, train= False, download=True, transform= transform)\n"
   ]
  },
  {
   "cell_type": "code",
   "execution_count": 4,
   "metadata": {},
   "outputs": [
    {
     "data": {
      "text/plain": [
       "5"
      ]
     },
     "execution_count": 4,
     "metadata": {},
     "output_type": "execute_result"
    }
   ],
   "source": [
    "training_set[0][0]\n",
    "training_set[0][1]\n",
    "# training_set is composed of image and label"
   ]
  },
  {
   "cell_type": "code",
   "execution_count": 5,
   "metadata": {},
   "outputs": [
    {
     "data": {
      "text/plain": [
       "torch.Tensor"
      ]
     },
     "execution_count": 5,
     "metadata": {},
     "output_type": "execute_result"
    }
   ],
   "source": [
    "type(training_set[0][0])\n",
    "#already tensor, no need to convert"
   ]
  },
  {
   "cell_type": "code",
   "execution_count": 6,
   "metadata": {},
   "outputs": [],
   "source": [
    "class classification(nn.Module):\n",
    "    def __init__(self):\n",
    "        super(classification, self).__init__()\n",
    "        \n",
    "        # construct layers for a neural network\n",
    "        self.classifier1 = nn.Sequential(\n",
    "            nn.Linear(in_features=28*28, out_features=20*20),\n",
    "            nn.Sigmoid(),\n",
    "        ) \n",
    "        self.classifier2 = nn.Sequential(\n",
    "            nn.Linear(in_features=20*20, out_features=10*10),\n",
    "            nn.Sigmoid(),\n",
    "        ) \n",
    "        self.classifier3 = nn.Sequential(\n",
    "            nn.Linear(in_features=10*10, out_features=10),\n",
    "            nn.LogSoftmax(dim=1),\n",
    "        ) \n",
    "        \n",
    "        \n",
    "    def forward(self, inputs):                 # [batchSize, 1, 28, 28]\n",
    "        x = inputs.view(inputs.size(0), -1)    # [batchSize, 28*28]\n",
    "        x = self.classifier1(x)                # [batchSize, 20*20]\n",
    "        x = self.classifier2(x)                # [batchSize, 10*10]\n",
    "        out = self.classifier3(x)              # [batchSize, 10]\n",
    "        \n",
    "        return out\n"
   ]
  },
  {
   "cell_type": "code",
   "execution_count": 7,
   "metadata": {},
   "outputs": [],
   "source": [
    "criterion = nn.NLLLoss()"
   ]
  },
  {
   "cell_type": "code",
   "execution_count": 8,
   "metadata": {},
   "outputs": [],
   "source": [
    "device=\"cuda\"\n",
    "learning_rate_value=0.01"
   ]
  },
  {
   "cell_type": "code",
   "execution_count": 10,
   "metadata": {},
   "outputs": [],
   "source": [
    "classifier = classification().to(device)\n",
    "optimizer = torch.optim.SGD(classifier.parameters(), lr=learning_rate_value)\n"
   ]
  },
  {
   "cell_type": "code",
   "execution_count": 14,
   "metadata": {},
   "outputs": [
    {
     "name": "stdout",
     "output_type": "stream",
     "text": [
      "train loss 2.1619259711583454\n",
      "train accuracy:  0.3483666777610779\n",
      "test loss 1.8184125087738037\n",
      "test accuracy 0.5475999712944031\n",
      "train loss 0.3842463271141052\n",
      "train accuracy:  0.8930166959762573\n",
      "test loss 0.3565839628219605\n",
      "test accuracy 0.9000999927520752\n",
      "train loss 0.2895420888284842\n",
      "train accuracy:  0.9164333343505859\n",
      "test loss 0.27904008229970934\n",
      "test accuracy 0.9197999835014343\n",
      "train loss 0.23802473508119584\n",
      "train accuracy:  0.9313499927520752\n",
      "test loss 0.2317372270822525\n",
      "test accuracy 0.9336999654769897\n",
      "train loss 0.19864112185488145\n",
      "train accuracy:  0.942799985408783\n",
      "test loss 0.19642235940694808\n",
      "test accuracy 0.9440000057220459\n",
      "train loss 0.1675609116981427\n",
      "train accuracy:  0.9520166516304016\n",
      "test loss 0.16846533408463002\n",
      "test accuracy 0.9511999487876892\n"
     ]
    }
   ],
   "source": [
    "#start training with batchsize 32\n",
    "classifier = classification().to(\"cuda\")\n",
    "optimizer = torch.optim.SGD(classifier.parameters(), lr=learning_rate_value)\n",
    "criterion = nn.NLLLoss()\n",
    "batch_size=32\n",
    "epoch = 30\n",
    "loss_train_arr=np.zeros(epoch)\n",
    "accuracy_train_arr=np.zeros(epoch)\n",
    "loss_test_arr=np.zeros(epoch)\n",
    "accuracy_test_arr=np.zeros(epoch)\n",
    "\n",
    "batched_train = torch.utils.data.DataLoader(training_set, 32, shuffle=True)\n",
    "batched_test = torch.utils.data.DataLoader(testing_set, 32, shuffle=True)\n",
    "\n",
    "for i in range(epoch):\n",
    "    \n",
    "    loss_train=0\n",
    "    accuracy_train=0\n",
    "    \n",
    "    #train and compute loss, accuracy\n",
    "    for img, label in batched_train:\n",
    "        img=img.to(device)\n",
    "        label=label.to(device)\n",
    "        optimizer.zero_grad()\n",
    "        predicted = classifier(img)\n",
    "\n",
    "        label_predicted = torch.argmax(predicted,dim=1)\n",
    "        loss = criterion(predicted, label)\n",
    "        loss.backward()\n",
    "        optimizer.step()\n",
    "        \n",
    "        loss_train += loss.item()\n",
    "        accuracy_train += torch.sum(label_predicted==label)\n",
    "        \n",
    "\n",
    "    loss_train_arr[i]=loss_train/(len(batched_train)) #number of batch\n",
    "    accuracy_train_arr[i]=accuracy_train/len(batched_train.dataset)\n",
    "    \n",
    "\n",
    "    \n",
    "    #test, no need to backward, step\n",
    "    loss_test=0\n",
    "    accuracy_test=0\n",
    "    \n",
    "    for img, label in batched_test:\n",
    "        img=img.to(device)\n",
    "        label=label.to(device)\n",
    "        \n",
    "        predicted = classifier(img)\n",
    "        label_predicted = torch.argmax(predicted,dim=1)\n",
    "        loss = criterion(predicted, label)\n",
    "        \n",
    "        loss_test += loss.item()\n",
    "        accuracy_test += torch.sum(label_predicted==label)\n",
    "        \n",
    "    loss_test_arr[i]=loss_test/(len(batched_test))\n",
    "    accuracy_test_arr[i]=accuracy_test/len(batched_test.dataset)\n",
    "    \n",
    "    if i%5==0:\n",
    "        print(\"train loss\", loss_train_arr[i])\n",
    "        print(\"train accuracy: \",accuracy_train_arr[i])\n",
    "        print(\"test loss\", loss_test_arr[i])\n",
    "        print(\"test accuracy\", accuracy_test_arr[i])\n",
    "    \n",
    "    "
   ]
  },
  {
   "cell_type": "code",
   "execution_count": 15,
   "metadata": {},
   "outputs": [],
   "source": [
    "def startTraining(batch_size,epoch,learning_rate_value):\n",
    "    #start training with batchsize 32\n",
    "    start_time = time.time()\n",
    "    print(\"start training..... \",start_time)\n",
    "    \n",
    "    classifier = classification().to(\"cuda\")\n",
    "    optimizer = torch.optim.SGD(classifier.parameters(), lr=learning_rate_value)\n",
    "    criterion = nn.NLLLoss()\n",
    "    \n",
    "    #define array to save values\n",
    "    \n",
    "    loss_train_arr=np.zeros(epoch)\n",
    "    accuracy_train_arr=np.zeros(epoch)\n",
    "    loss_test_arr=np.zeros(epoch)\n",
    "    accuracy_test_arr=np.zeros(epoch)\n",
    "\n",
    "    batched_train = torch.utils.data.DataLoader(training_set, 32, shuffle=True)\n",
    "    batched_test = torch.utils.data.DataLoader(testing_set, 32, shuffle=True)\n",
    "\n",
    "    for i in range(epoch):\n",
    "\n",
    "        loss_train=0\n",
    "        accuracy_train=0\n",
    "\n",
    "        #train and compute loss, accuracy\n",
    "        for img, label in batched_train:\n",
    "            img=img.to(device)\n",
    "            label=label.to(device)\n",
    "            optimizer.zero_grad()\n",
    "            predicted = classifier(img)\n",
    "\n",
    "            label_predicted = torch.argmax(predicted,dim=1)\n",
    "            loss = criterion(predicted, label)\n",
    "            loss.backward()\n",
    "            optimizer.step()\n",
    "\n",
    "            loss_train += loss.item()\n",
    "            accuracy_train += torch.sum(label_predicted==label)\n",
    "\n",
    "\n",
    "        loss_train_arr[i]=loss_train/(len(batched_train)) \n",
    "        accuracy_train_arr[i]=accuracy_train/len(batched_train.dataset)\n",
    "\n",
    "\n",
    "\n",
    "        #test, no need to backward, step\n",
    "        loss_test=0\n",
    "        accuracy_test=0\n",
    "\n",
    "        for img, label in batched_test:\n",
    "            img=img.to(device)\n",
    "            label=label.to(device)\n",
    "\n",
    "            predicted = classifier(img)\n",
    "            label_predicted = torch.argmax(predicted,dim=1)\n",
    "            loss = criterion(predicted, label)\n",
    "\n",
    "            loss_test += loss.item()\n",
    "            accuracy_test += torch.sum(label_predicted==label)\n",
    "\n",
    "        loss_test_arr[i]=loss_test/(len(batched_test))\n",
    "        accuracy_test_arr[i]=accuracy_test/len(batched_test.dataset)\n",
    "\n",
    "        if i%5==0:\n",
    "            print(\"train loss\", loss_train_arr[i])\n",
    "            print(\"train accuracy: \",accuracy_train_arr[i])\n",
    "            print(\"test loss\", loss_test_arr[i])\n",
    "            print(\"test accuracy\", accuracy_test_arr[i])\n",
    "    print(\"execution time =======\", time.time()-start_time)\n",
    "    return loss_train_arr, loss_test_arr, accuracy_train_arr, accuracy_test_arr\n"
   ]
  },
  {
   "cell_type": "code",
   "execution_count": 24,
   "metadata": {},
   "outputs": [
    {
     "data": {
      "text/plain": [
       "313"
      ]
     },
     "execution_count": 24,
     "metadata": {},
     "output_type": "execute_result"
    }
   ],
   "source": [
    "len(batched_test)"
   ]
  },
  {
   "cell_type": "code",
   "execution_count": 17,
   "metadata": {},
   "outputs": [
    {
     "data": {
      "text/plain": [
       "[<matplotlib.lines.Line2D at 0x24d3bec7bb0>]"
      ]
     },
     "execution_count": 17,
     "metadata": {},
     "output_type": "execute_result"
    },
    {
     "data": {
      "image/png": "[encoded data removed]",
      "text/plain": [
       "<Figure size 432x288 with 1 Axes>"
      ]
     },
     "metadata": {
      "needs_background": "light"
     },
     "output_type": "display_data"
    }
   ],
   "source": [
    "plt.plot(accuracy_train_arr)\n",
    "plt.plot(accuracy_test_arr)\n"
   ]
  },
  {
   "cell_type": "code",
   "execution_count": 19,
   "metadata": {},
   "outputs": [
    {
     "data": {
      "text/plain": [
       "[<matplotlib.lines.Line2D at 0x24d35c668b0>]"
      ]
     },
     "execution_count": 19,
     "metadata": {},
     "output_type": "execute_result"
    },
    {
     "data": {
      "image/png": "[encoded data removed]",
      "text/plain": [
       "<Figure size 432x288 with 1 Axes>"
      ]
     },
     "metadata": {
      "needs_background": "light"
     },
     "output_type": "display_data"
    }
   ],
   "source": [
    "plt.plot(loss_train_arr)\n",
    "plt.plot(loss_test_arr)"
   ]
  },
  {
   "cell_type": "code",
   "execution_count": 23,
   "metadata": {},
   "outputs": [
    {
     "data": {
      "text/plain": [
       "0.45607320461273193"
      ]
     },
     "execution_count": 23,
     "metadata": {},
     "output_type": "execute_result"
    }
   ],
   "source": [
    "loss_train_arr[3]\n",
    "loss_test_arr[3]"
   ]
  },
  {
   "cell_type": "code",
   "execution_count": 14,
   "metadata": {},
   "outputs": [
    {
     "name": "stdout",
     "output_type": "stream",
     "text": [
      "torch.Size([32, 10])\n",
      "torch.Size([32])\n"
     ]
    },
    {
     "ename": "RuntimeError",
     "evalue": "Expected object of device type cuda but got device type cpu for argument #2 'target' in call to _thnn_nll_loss_forward",
     "output_type": "error",
     "traceback": [
      "\u001b[1;31m---------------------------------------------------------------------------\u001b[0m",
      "\u001b[1;31mRuntimeError\u001b[0m                              Traceback (most recent call last)",
      "\u001b[1;32m<ipython-input-14-12f7b6e4b214>\u001b[0m in \u001b[0;36m<module>\u001b[1;34m\u001b[0m\n\u001b[0;32m     22\u001b[0m     \u001b[0mprint\u001b[0m\u001b[1;33m(\u001b[0m\u001b[0mpredicted\u001b[0m\u001b[1;33m.\u001b[0m\u001b[0mshape\u001b[0m\u001b[1;33m)\u001b[0m\u001b[1;33m\u001b[0m\u001b[1;33m\u001b[0m\u001b[0m\n\u001b[0;32m     23\u001b[0m     \u001b[0mprint\u001b[0m\u001b[1;33m(\u001b[0m\u001b[0mlabel\u001b[0m\u001b[1;33m.\u001b[0m\u001b[0mshape\u001b[0m\u001b[1;33m)\u001b[0m\u001b[1;33m\u001b[0m\u001b[1;33m\u001b[0m\u001b[0m\n\u001b[1;32m---> 24\u001b[1;33m     \u001b[0mloss\u001b[0m \u001b[1;33m=\u001b[0m \u001b[0mcriterion\u001b[0m\u001b[1;33m(\u001b[0m\u001b[0mpredicted\u001b[0m\u001b[1;33m,\u001b[0m \u001b[0mlabel\u001b[0m\u001b[1;33m)\u001b[0m\u001b[1;33m\u001b[0m\u001b[1;33m\u001b[0m\u001b[0m\n\u001b[0m\u001b[0;32m     25\u001b[0m     \u001b[0mloss\u001b[0m\u001b[1;33m.\u001b[0m\u001b[0mbackward\u001b[0m\u001b[1;33m\u001b[0m\u001b[1;33m\u001b[0m\u001b[0m\n\u001b[0;32m     26\u001b[0m     \u001b[0moptimizer\u001b[0m\u001b[1;33m.\u001b[0m\u001b[0mstep\u001b[0m\u001b[1;33m(\u001b[0m\u001b[1;33m)\u001b[0m\u001b[1;33m\u001b[0m\u001b[1;33m\u001b[0m\u001b[0m\n",
      "\u001b[1;32mC:\\ProgramData\\Anaconda3\\lib\\site-packages\\torch\\nn\\modules\\module.py\u001b[0m in \u001b[0;36m_call_impl\u001b[1;34m(self, *input, **kwargs)\u001b[0m\n\u001b[0;32m    725\u001b[0m             \u001b[0mresult\u001b[0m \u001b[1;33m=\u001b[0m \u001b[0mself\u001b[0m\u001b[1;33m.\u001b[0m\u001b[0m_slow_forward\u001b[0m\u001b[1;33m(\u001b[0m\u001b[1;33m*\u001b[0m\u001b[0minput\u001b[0m\u001b[1;33m,\u001b[0m \u001b[1;33m**\u001b[0m\u001b[0mkwargs\u001b[0m\u001b[1;33m)\u001b[0m\u001b[1;33m\u001b[0m\u001b[1;33m\u001b[0m\u001b[0m\n\u001b[0;32m    726\u001b[0m         \u001b[1;32melse\u001b[0m\u001b[1;33m:\u001b[0m\u001b[1;33m\u001b[0m\u001b[1;33m\u001b[0m\u001b[0m\n\u001b[1;32m--> 727\u001b[1;33m             \u001b[0mresult\u001b[0m \u001b[1;33m=\u001b[0m \u001b[0mself\u001b[0m\u001b[1;33m.\u001b[0m\u001b[0mforward\u001b[0m\u001b[1;33m(\u001b[0m\u001b[1;33m*\u001b[0m\u001b[0minput\u001b[0m\u001b[1;33m,\u001b[0m \u001b[1;33m**\u001b[0m\u001b[0mkwargs\u001b[0m\u001b[1;33m)\u001b[0m\u001b[1;33m\u001b[0m\u001b[1;33m\u001b[0m\u001b[0m\n\u001b[0m\u001b[0;32m    728\u001b[0m         for hook in itertools.chain(\n\u001b[0;32m    729\u001b[0m                 \u001b[0m_global_forward_hooks\u001b[0m\u001b[1;33m.\u001b[0m\u001b[0mvalues\u001b[0m\u001b[1;33m(\u001b[0m\u001b[1;33m)\u001b[0m\u001b[1;33m,\u001b[0m\u001b[1;33m\u001b[0m\u001b[1;33m\u001b[0m\u001b[0m\n",
      "\u001b[1;32mC:\\ProgramData\\Anaconda3\\lib\\site-packages\\torch\\nn\\modules\\loss.py\u001b[0m in \u001b[0;36mforward\u001b[1;34m(self, input, target)\u001b[0m\n\u001b[0;32m    211\u001b[0m \u001b[1;33m\u001b[0m\u001b[0m\n\u001b[0;32m    212\u001b[0m     \u001b[1;32mdef\u001b[0m \u001b[0mforward\u001b[0m\u001b[1;33m(\u001b[0m\u001b[0mself\u001b[0m\u001b[1;33m,\u001b[0m \u001b[0minput\u001b[0m\u001b[1;33m:\u001b[0m \u001b[0mTensor\u001b[0m\u001b[1;33m,\u001b[0m \u001b[0mtarget\u001b[0m\u001b[1;33m:\u001b[0m \u001b[0mTensor\u001b[0m\u001b[1;33m)\u001b[0m \u001b[1;33m->\u001b[0m \u001b[0mTensor\u001b[0m\u001b[1;33m:\u001b[0m\u001b[1;33m\u001b[0m\u001b[1;33m\u001b[0m\u001b[0m\n\u001b[1;32m--> 213\u001b[1;33m         \u001b[1;32mreturn\u001b[0m \u001b[0mF\u001b[0m\u001b[1;33m.\u001b[0m\u001b[0mnll_loss\u001b[0m\u001b[1;33m(\u001b[0m\u001b[0minput\u001b[0m\u001b[1;33m,\u001b[0m \u001b[0mtarget\u001b[0m\u001b[1;33m,\u001b[0m \u001b[0mweight\u001b[0m\u001b[1;33m=\u001b[0m\u001b[0mself\u001b[0m\u001b[1;33m.\u001b[0m\u001b[0mweight\u001b[0m\u001b[1;33m,\u001b[0m \u001b[0mignore_index\u001b[0m\u001b[1;33m=\u001b[0m\u001b[0mself\u001b[0m\u001b[1;33m.\u001b[0m\u001b[0mignore_index\u001b[0m\u001b[1;33m,\u001b[0m \u001b[0mreduction\u001b[0m\u001b[1;33m=\u001b[0m\u001b[0mself\u001b[0m\u001b[1;33m.\u001b[0m\u001b[0mreduction\u001b[0m\u001b[1;33m)\u001b[0m\u001b[1;33m\u001b[0m\u001b[1;33m\u001b[0m\u001b[0m\n\u001b[0m\u001b[0;32m    214\u001b[0m \u001b[1;33m\u001b[0m\u001b[0m\n\u001b[0;32m    215\u001b[0m \u001b[1;33m\u001b[0m\u001b[0m\n",
      "\u001b[1;32mC:\\ProgramData\\Anaconda3\\lib\\site-packages\\torch\\nn\\functional.py\u001b[0m in \u001b[0;36mnll_loss\u001b[1;34m(input, target, weight, size_average, ignore_index, reduce, reduction)\u001b[0m\n\u001b[0;32m   2262\u001b[0m                          .format(input.size(0), target.size(0)))\n\u001b[0;32m   2263\u001b[0m     \u001b[1;32mif\u001b[0m \u001b[0mdim\u001b[0m \u001b[1;33m==\u001b[0m \u001b[1;36m2\u001b[0m\u001b[1;33m:\u001b[0m\u001b[1;33m\u001b[0m\u001b[1;33m\u001b[0m\u001b[0m\n\u001b[1;32m-> 2264\u001b[1;33m         \u001b[0mret\u001b[0m \u001b[1;33m=\u001b[0m \u001b[0mtorch\u001b[0m\u001b[1;33m.\u001b[0m\u001b[0m_C\u001b[0m\u001b[1;33m.\u001b[0m\u001b[0m_nn\u001b[0m\u001b[1;33m.\u001b[0m\u001b[0mnll_loss\u001b[0m\u001b[1;33m(\u001b[0m\u001b[0minput\u001b[0m\u001b[1;33m,\u001b[0m \u001b[0mtarget\u001b[0m\u001b[1;33m,\u001b[0m \u001b[0mweight\u001b[0m\u001b[1;33m,\u001b[0m \u001b[0m_Reduction\u001b[0m\u001b[1;33m.\u001b[0m\u001b[0mget_enum\u001b[0m\u001b[1;33m(\u001b[0m\u001b[0mreduction\u001b[0m\u001b[1;33m)\u001b[0m\u001b[1;33m,\u001b[0m \u001b[0mignore_index\u001b[0m\u001b[1;33m)\u001b[0m\u001b[1;33m\u001b[0m\u001b[1;33m\u001b[0m\u001b[0m\n\u001b[0m\u001b[0;32m   2265\u001b[0m     \u001b[1;32melif\u001b[0m \u001b[0mdim\u001b[0m \u001b[1;33m==\u001b[0m \u001b[1;36m4\u001b[0m\u001b[1;33m:\u001b[0m\u001b[1;33m\u001b[0m\u001b[1;33m\u001b[0m\u001b[0m\n\u001b[0;32m   2266\u001b[0m         \u001b[0mret\u001b[0m \u001b[1;33m=\u001b[0m \u001b[0mtorch\u001b[0m\u001b[1;33m.\u001b[0m\u001b[0m_C\u001b[0m\u001b[1;33m.\u001b[0m\u001b[0m_nn\u001b[0m\u001b[1;33m.\u001b[0m\u001b[0mnll_loss2d\u001b[0m\u001b[1;33m(\u001b[0m\u001b[0minput\u001b[0m\u001b[1;33m,\u001b[0m \u001b[0mtarget\u001b[0m\u001b[1;33m,\u001b[0m \u001b[0mweight\u001b[0m\u001b[1;33m,\u001b[0m \u001b[0m_Reduction\u001b[0m\u001b[1;33m.\u001b[0m\u001b[0mget_enum\u001b[0m\u001b[1;33m(\u001b[0m\u001b[0mreduction\u001b[0m\u001b[1;33m)\u001b[0m\u001b[1;33m,\u001b[0m \u001b[0mignore_index\u001b[0m\u001b[1;33m)\u001b[0m\u001b[1;33m\u001b[0m\u001b[1;33m\u001b[0m\u001b[0m\n",
      "\u001b[1;31mRuntimeError\u001b[0m: Expected object of device type cuda but got device type cpu for argument #2 'target' in call to _thnn_nll_loss_forward"
     ]
    }
   ],
   "source": [
    "#start training with batchsize 32\n",
    "classifier = classification().to(\"cuda\")\n",
    "optimizer = torch.optim.SGD(classifier.parameters(), lr=learning_rate_value)\n",
    "criterion = nn.NLLLoss()\n",
    "batch_size=32\n",
    "epochs = 10\n",
    "loss_train=np.zeros(epochs)\n",
    "accuracy_train=np.zeros(epochs)\n",
    "loss_test=np.zeros(epochs)\n",
    "accuracy_test=np.zeros(epochs)\n",
    "\n",
    "batched_train = torch.utils.data.DataLoader(training_set, 32, shuffle=True)\n",
    "batched_test = torch.utils.data.DataLoader(testing_set, 32, shuffle=True)\n",
    "\n",
    "\n",
    "#train and compute loss, accuracy\n",
    "for img, label in batched_train:\n",
    "    img=img.to(device)\n",
    "    optimizer.zero_grad()\n",
    "    predicted = classifier.forward(img)\n",
    "    label_predicted = torch.argmax(predicted,dim=1)\n",
    "    print(predicted.shape)\n",
    "    print(label.shape)\n",
    "    loss = criterion(predicted, label)\n",
    "    loss.backward\n",
    "    optimizer.step()\n",
    "    loss_train[i] += loss\n",
    "    accuracy_train[i] += torch.sum(label_predicted==label)\n",
    "    \n",
    "\n",
    "    "
   ]
  },
  {
   "cell_type": "code",
   "execution_count": 59,
   "metadata": {},
   "outputs": [
    {
     "ename": "TypeError",
     "evalue": "'DataLoader' object is not subscriptable",
     "output_type": "error",
     "traceback": [
      "\u001b[1;31m---------------------------------------------------------------------------\u001b[0m",
      "\u001b[1;31mTypeError\u001b[0m                                 Traceback (most recent call last)",
      "\u001b[1;32m<ipython-input-59-72df9ac95f9b>\u001b[0m in \u001b[0;36m<module>\u001b[1;34m\u001b[0m\n\u001b[0;32m      1\u001b[0m \u001b[0mbatched_train\u001b[0m \u001b[1;33m=\u001b[0m \u001b[0mtorch\u001b[0m\u001b[1;33m.\u001b[0m\u001b[0mutils\u001b[0m\u001b[1;33m.\u001b[0m\u001b[0mdata\u001b[0m\u001b[1;33m.\u001b[0m\u001b[0mDataLoader\u001b[0m\u001b[1;33m(\u001b[0m\u001b[0mtraining_set\u001b[0m\u001b[1;33m,\u001b[0m \u001b[1;36m32\u001b[0m\u001b[1;33m,\u001b[0m \u001b[0mshuffle\u001b[0m\u001b[1;33m=\u001b[0m\u001b[1;32mTrue\u001b[0m\u001b[1;33m)\u001b[0m\u001b[1;33m\u001b[0m\u001b[1;33m\u001b[0m\u001b[0m\n\u001b[1;32m----> 2\u001b[1;33m \u001b[0mbatched_train\u001b[0m\u001b[1;33m[\u001b[0m\u001b[1;36m0\u001b[0m\u001b[1;33m]\u001b[0m\u001b[1;33m\u001b[0m\u001b[1;33m\u001b[0m\u001b[0m\n\u001b[0m",
      "\u001b[1;31mTypeError\u001b[0m: 'DataLoader' object is not subscriptable"
     ]
    }
   ],
   "source": []
  },
  {
   "cell_type": "code",
   "execution_count": 57,
   "metadata": {},
   "outputs": [],
   "source": [
    "train_data_loader = torch.utils.data.DataLoader(training_set, 32, shuffle=True)\n"
   ]
  },
  {
   "cell_type": "code",
   "execution_count": 61,
   "metadata": {},
   "outputs": [
    {
     "name": "stdout",
     "output_type": "stream",
     "text": [
      "torch.Size([32, 1, 28, 28])\n"
     ]
    }
   ],
   "source": [
    "example_mini_batch_img, example_mini_batch_label  = next(iter(train_data_loader))\n",
    "print(example_mini_batch_img.shape)"
   ]
  },
  {
   "cell_type": "code",
   "execution_count": null,
   "metadata": {},
   "outputs": [],
   "source": [
    "def run_epoch (model, train_data, test_data, optimizer, criterion):\n",
    "    \n",
    "    for img_i, label_i in train_data:\n",
    "\n",
    "        img_i, label_i = img_i.to(device), label_i.to(device)\n",
    "\n",
    "        optimizer.zero_grad()\n",
    "\n",
    "        # Forward\n",
    "        label_predicted = mlp.forward(img_i.view(-1, 28*28))\n",
    "        # Loss computation\n",
    "        loss  = criterion(torch.log(label_predicted), label_i.view(-1))\n",
    "        # Backward\n",
    "        loss.backward()\n",
    "        # Optimize for img_i\n",
    "        optimizer.step()\n",
    "    \n",
    "    total_test_loss = 0\n",
    "    for img_j, label_j in test_data:\n",
    "\n",
    "        img_j, label_j = img_j.to(device), label_j.to(device)\n",
    "\n",
    "        with torch.autograd.no_grad():\n",
    "            label_predicted = mlp.forward(img_j.view(-1, 28*28))\n",
    "            total_test_loss  += criterion(torch.log(label_predicted), label_j.view(-1)).item()\n",
    "\n",
    "    end_time = time.time()\n",
    "    return total_test_loss, (end_time - start_time)\n",
    "\n",
    "\n",
    "optimizer = optim.Adam(mlp.parameters(), lr=0.0001)\n",
    "criterion = nn.NLLLoss()\n",
    "\n",
    "for epoch in range(3):\n",
    "    test_loss, response = run_epoch (mlp, train_data, test_data, optimizer, criterion)\n",
    "    print('epoch ', epoch, ': ')\n",
    "    print('\\ttest_loss: ', test_loss)\n",
    "    print('\\tresponse(s): ', response)"
   ]
  },
  {
   "cell_type": "code",
   "execution_count": 25,
   "metadata": {},
   "outputs": [
    {
     "data": {
      "text/plain": [
       "Dataset MNIST\n",
       "    Number of datapoints: 60000\n",
       "    Root location: ./MNIST\n",
       "    Split: Train\n",
       "    StandardTransform\n",
       "Transform: Compose(\n",
       "               ToTensor()\n",
       "               Normalize(mean=(0.1307,), std=(0.3081,))\n",
       "           )"
      ]
     },
     "execution_count": 25,
     "metadata": {},
     "output_type": "execute_result"
    }
   ],
   "source": []
  },
  {
   "cell_type": "code",
   "execution_count": null,
   "metadata": {},
   "outputs": [],
   "source": []
  },
  {
   "cell_type": "code",
   "execution_count": null,
   "metadata": {},
   "outputs": [],
   "source": []
  },
  {
   "cell_type": "code",
   "execution_count": null,
   "metadata": {},
   "outputs": [],
   "source": []
  }
 ],
 "metadata": {
  "kernelspec": {
   "display_name": "Python 3",
   "language": "python",
   "name": "python3"
  },
  "language_info": {
   "codemirror_mode": {
    "name": "ipython",
    "version": 3
   },
   "file_extension": ".py",
   "mimetype": "text/x-python",
   "name": "python",
   "nbconvert_exporter": "python",
   "pygments_lexer": "ipython3",
   "version": "3.8.3"
  }
 },
 "nbformat": 4,
 "nbformat_minor": 4
}
