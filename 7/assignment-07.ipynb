{
 "cells": [
  {
   "cell_type": "code",
   "execution_count": 9,
   "metadata": {},
   "outputs": [],
   "source": [
    "import numpy as np\n",
    "import matplotlib.pyplot as plt\n",
    "import pandas as pd\n",
    "\n",
    "dataset = pd.read_csv('data-kmeans.csv')\n",
    "data = dataset.values\n"
   ]
  },
  {
   "cell_type": "code",
   "execution_count": 19,
   "metadata": {},
   "outputs": [
    {
     "data": {
      "text/plain": [
       "array([15, 39], dtype=int64)"
      ]
     },
     "execution_count": 19,
     "metadata": {},
     "output_type": "execute_result"
    }
   ],
   "source": [
    "data[0]"
   ]
  },
  {
   "cell_type": "code",
   "execution_count": 18,
   "metadata": {},
   "outputs": [
    {
     "data": {
      "text/plain": [
       "array([[ 15,  39],\n",
       "       [ 15,  81],\n",
       "       [ 16,   6],\n",
       "       [ 16,  77],\n",
       "       [ 17,  40],\n",
       "       [ 17,  76],\n",
       "       [ 18,   6],\n",
       "       [ 18,  94],\n",
       "       [ 19,   3],\n",
       "       [ 19,  72],\n",
       "       [ 19,  14],\n",
       "       [ 19,  99],\n",
       "       [ 20,  15],\n",
       "       [ 20,  77],\n",
       "       [ 20,  13],\n",
       "       [ 20,  79],\n",
       "       [ 21,  35],\n",
       "       [ 21,  66],\n",
       "       [ 23,  29],\n",
       "       [ 23,  98],\n",
       "       [ 24,  35],\n",
       "       [ 24,  73],\n",
       "       [ 25,   5],\n",
       "       [ 25,  73],\n",
       "       [ 28,  14],\n",
       "       [ 28,  82],\n",
       "       [ 28,  32],\n",
       "       [ 28,  61],\n",
       "       [ 29,  31],\n",
       "       [ 29,  87],\n",
       "       [ 30,   4],\n",
       "       [ 30,  73],\n",
       "       [ 33,   4],\n",
       "       [ 33,  92],\n",
       "       [ 33,  14],\n",
       "       [ 33,  81],\n",
       "       [ 34,  17],\n",
       "       [ 34,  73],\n",
       "       [ 37,  26],\n",
       "       [ 37,  75],\n",
       "       [ 38,  35],\n",
       "       [ 38,  92],\n",
       "       [ 39,  36],\n",
       "       [ 39,  61],\n",
       "       [ 39,  28],\n",
       "       [ 39,  65],\n",
       "       [ 40,  55],\n",
       "       [ 40,  47],\n",
       "       [ 40,  42],\n",
       "       [ 40,  42],\n",
       "       [ 42,  52],\n",
       "       [ 42,  60],\n",
       "       [ 43,  54],\n",
       "       [ 43,  60],\n",
       "       [ 43,  45],\n",
       "       [ 43,  41],\n",
       "       [ 44,  50],\n",
       "       [ 44,  46],\n",
       "       [ 46,  51],\n",
       "       [ 46,  46],\n",
       "       [ 46,  56],\n",
       "       [ 46,  55],\n",
       "       [ 47,  52],\n",
       "       [ 47,  59],\n",
       "       [ 48,  51],\n",
       "       [ 48,  59],\n",
       "       [ 48,  50],\n",
       "       [ 48,  48],\n",
       "       [ 48,  59],\n",
       "       [ 48,  47],\n",
       "       [ 49,  55],\n",
       "       [ 49,  42],\n",
       "       [ 50,  49],\n",
       "       [ 50,  56],\n",
       "       [ 54,  47],\n",
       "       [ 54,  54],\n",
       "       [ 54,  53],\n",
       "       [ 54,  48],\n",
       "       [ 54,  52],\n",
       "       [ 54,  42],\n",
       "       [ 54,  51],\n",
       "       [ 54,  55],\n",
       "       [ 54,  41],\n",
       "       [ 54,  44],\n",
       "       [ 54,  57],\n",
       "       [ 54,  46],\n",
       "       [ 57,  58],\n",
       "       [ 57,  55],\n",
       "       [ 58,  60],\n",
       "       [ 58,  46],\n",
       "       [ 59,  55],\n",
       "       [ 59,  41],\n",
       "       [ 60,  49],\n",
       "       [ 60,  40],\n",
       "       [ 60,  42],\n",
       "       [ 60,  52],\n",
       "       [ 60,  47],\n",
       "       [ 60,  50],\n",
       "       [ 61,  42],\n",
       "       [ 61,  49],\n",
       "       [ 62,  41],\n",
       "       [ 62,  48],\n",
       "       [ 62,  59],\n",
       "       [ 62,  55],\n",
       "       [ 62,  56],\n",
       "       [ 62,  42],\n",
       "       [ 63,  50],\n",
       "       [ 63,  46],\n",
       "       [ 63,  43],\n",
       "       [ 63,  48],\n",
       "       [ 63,  52],\n",
       "       [ 63,  54],\n",
       "       [ 64,  42],\n",
       "       [ 64,  46],\n",
       "       [ 65,  48],\n",
       "       [ 65,  50],\n",
       "       [ 65,  43],\n",
       "       [ 65,  59],\n",
       "       [ 67,  43],\n",
       "       [ 67,  57],\n",
       "       [ 67,  56],\n",
       "       [ 67,  40],\n",
       "       [ 69,  58],\n",
       "       [ 69,  91],\n",
       "       [ 70,  29],\n",
       "       [ 70,  77],\n",
       "       [ 71,  35],\n",
       "       [ 71,  95],\n",
       "       [ 71,  11],\n",
       "       [ 71,  75],\n",
       "       [ 71,   9],\n",
       "       [ 71,  75],\n",
       "       [ 72,  34],\n",
       "       [ 72,  71],\n",
       "       [ 73,   5],\n",
       "       [ 73,  88],\n",
       "       [ 73,   7],\n",
       "       [ 73,  73],\n",
       "       [ 74,  10],\n",
       "       [ 74,  72],\n",
       "       [ 75,   5],\n",
       "       [ 75,  93],\n",
       "       [ 76,  40],\n",
       "       [ 76,  87],\n",
       "       [ 77,  12],\n",
       "       [ 77,  97],\n",
       "       [ 77,  36],\n",
       "       [ 77,  74],\n",
       "       [ 78,  22],\n",
       "       [ 78,  90],\n",
       "       [ 78,  17],\n",
       "       [ 78,  88],\n",
       "       [ 78,  20],\n",
       "       [ 78,  76],\n",
       "       [ 78,  16],\n",
       "       [ 78,  89],\n",
       "       [ 78,   1],\n",
       "       [ 78,  78],\n",
       "       [ 78,   1],\n",
       "       [ 78,  73],\n",
       "       [ 79,  35],\n",
       "       [ 79,  83],\n",
       "       [ 81,   5],\n",
       "       [ 81,  93],\n",
       "       [ 85,  26],\n",
       "       [ 85,  75],\n",
       "       [ 86,  20],\n",
       "       [ 86,  95],\n",
       "       [ 87,  27],\n",
       "       [ 87,  63],\n",
       "       [ 87,  13],\n",
       "       [ 87,  75],\n",
       "       [ 87,  10],\n",
       "       [ 87,  92],\n",
       "       [ 88,  13],\n",
       "       [ 88,  86],\n",
       "       [ 88,  15],\n",
       "       [ 88,  69],\n",
       "       [ 93,  14],\n",
       "       [ 93,  90],\n",
       "       [ 97,  32],\n",
       "       [ 97,  86],\n",
       "       [ 98,  15],\n",
       "       [ 98,  88],\n",
       "       [ 99,  39],\n",
       "       [ 99,  97],\n",
       "       [101,  24],\n",
       "       [101,  68],\n",
       "       [103,  17],\n",
       "       [103,  85],\n",
       "       [103,  23],\n",
       "       [103,  69],\n",
       "       [113,   8],\n",
       "       [113,  91],\n",
       "       [120,  16],\n",
       "       [120,  79],\n",
       "       [126,  28],\n",
       "       [126,  74],\n",
       "       [137,  18],\n",
       "       [137,  83]], dtype=int64)"
      ]
     },
     "execution_count": 18,
     "metadata": {},
     "output_type": "execute_result"
    }
   ],
   "source": [
    "data"
   ]
  },
  {
   "cell_type": "markdown",
   "metadata": {},
   "source": [
    "### define a function to compute a distance between two points aaa and bbb"
   ]
  },
  {
   "cell_type": "code",
   "execution_count": 10,
   "metadata": {},
   "outputs": [],
   "source": [
    "def compute_distance(a, b):\n",
    "\n",
    "    dist = np.sqrt((a[0]-b[0])**2+(a[1]-b[1])**2) #distance between a and b#\n",
    "\n",
    "    return dist\n"
   ]
  },
  {
   "cell_type": "code",
   "execution_count": 22,
   "metadata": {},
   "outputs": [
    {
     "data": {
      "text/plain": [
       "75.0066663703967"
      ]
     },
     "execution_count": 22,
     "metadata": {},
     "output_type": "execute_result"
    }
   ],
   "source": [
    "compute_distance(data[2],data[1])"
   ]
  },
  {
   "cell_type": "markdown",
   "metadata": {},
   "source": [
    "### define a function to compute a centroid from a given set of points ZZZ"
   ]
  },
  {
   "cell_type": "code",
   "execution_count": 28,
   "metadata": {},
   "outputs": [],
   "source": [
    "def compute_centroid(Z):\n",
    "    x,y=0,0\n",
    "    length=len(Z)\n",
    "    for point in Z:\n",
    "        x+=point[0]\n",
    "        y+=point[1]\n",
    "    center = [x/length,y/length]#centroid of a set of points in P#\n",
    "    \n",
    "    return center\n"
   ]
  },
  {
   "cell_type": "code",
   "execution_count": 31,
   "metadata": {},
   "outputs": [
    {
     "data": {
      "text/plain": [
       "[1.0, 2.0]"
      ]
     },
     "execution_count": 31,
     "metadata": {},
     "output_type": "execute_result"
    }
   ],
   "source": [
    "test_arr=[[0,0],[1,2],[2,4]]\n",
    "compute_centroid(test_arr)"
   ]
  },
  {
   "cell_type": "markdown",
   "metadata": {},
   "source": [
    "### define a function to determine the label of point zzz with a set of centroids MMM"
   ]
  },
  {
   "cell_type": "code",
   "execution_count": 77,
   "metadata": {},
   "outputs": [],
   "source": [
    "def compute_label(z, M):\n",
    "    label=0\n",
    "    dist=1000000\n",
    "    for i in range(len(M)):\n",
    "        temp=compute_distance(z,M[i])\n",
    "        if temp <dist:\n",
    "            label=i\n",
    "            dist=temp\n",
    "        \n",
    "    return label\n"
   ]
  },
  {
   "cell_type": "code",
   "execution_count": 38,
   "metadata": {},
   "outputs": [
    {
     "data": {
      "text/plain": [
       "2"
      ]
     },
     "execution_count": 38,
     "metadata": {},
     "output_type": "execute_result"
    }
   ],
   "source": [
    "compute_label([2,5],test_arr)"
   ]
  },
  {
   "cell_type": "markdown",
   "metadata": {},
   "source": [
    "### define a function to compute the loss with a set of clusters CCC and a set of centroids MMM"
   ]
  },
  {
   "cell_type": "code",
   "execution_count": 47,
   "metadata": {},
   "outputs": [],
   "source": [
    "def compute_loss(C, M):\n",
    "    loss=0\n",
    "    for points, centroid in zip(C,M):\n",
    "        temp=0\n",
    "        for point in points:\n",
    "            temp+=compute_distance(point,centroid)**2\n",
    "        loss+=temp/len(points)\n",
    "    \n",
    "    return loss\n"
   ]
  },
  {
   "cell_type": "code",
   "execution_count": 48,
   "metadata": {},
   "outputs": [
    {
     "data": {
      "text/plain": [
       "8.666666666666668"
      ]
     },
     "execution_count": 48,
     "metadata": {},
     "output_type": "execute_result"
    }
   ],
   "source": [
    "compute_loss([[[0,2],[0,3],[0,4]],[[0,1]]],[[0,1],[0,3]])"
   ]
  },
  {
   "cell_type": "markdown",
   "metadata": {},
   "source": [
    "## plot the data points"
   ]
  },
  {
   "cell_type": "code",
   "execution_count": 73,
   "metadata": {},
   "outputs": [
    {
     "data": {
      "image/png": "[encoded data removed]",
      "text/plain": [
       "<Figure size 720x720 with 1 Axes>"
      ]
     },
     "metadata": {
      "needs_background": "light"
     },
     "output_type": "display_data"
    }
   ],
   "source": [
    "plt.figure(1,figsize=(10,10))\n",
    "plt.title(\"data point\")\n",
    "plt.scatter(data[:,0],data[:,1],c=\"black\",label=\"data\")\n",
    "plt.legend()\n",
    "plt.show()"
   ]
  },
  {
   "cell_type": "markdown",
   "metadata": {},
   "source": [
    "### random initialization"
   ]
  },
  {
   "cell_type": "code",
   "execution_count": 131,
   "metadata": {},
   "outputs": [
    {
     "data": {
      "text/plain": [
       "array([[4],\n",
       "       [2],\n",
       "       [3],\n",
       "       [2],\n",
       "       [4],\n",
       "       [0],\n",
       "       [1],\n",
       "       [4],\n",
       "       [3],\n",
       "       [0],\n",
       "       [3],\n",
       "       [1],\n",
       "       [2],\n",
       "       [4],\n",
       "       [3],\n",
       "       [1],\n",
       "       [4],\n",
       "       [0],\n",
       "       [0],\n",
       "       [1],\n",
       "       [2],\n",
       "       [0],\n",
       "       [4],\n",
       "       [4],\n",
       "       [1],\n",
       "       [2],\n",
       "       [2],\n",
       "       [0],\n",
       "       [0],\n",
       "       [1],\n",
       "       [3],\n",
       "       [1],\n",
       "       [2],\n",
       "       [1],\n",
       "       [3],\n",
       "       [1],\n",
       "       [3],\n",
       "       [1],\n",
       "       [4],\n",
       "       [3],\n",
       "       [4],\n",
       "       [3],\n",
       "       [0],\n",
       "       [1],\n",
       "       [3],\n",
       "       [0],\n",
       "       [0],\n",
       "       [2],\n",
       "       [2],\n",
       "       [1],\n",
       "       [2],\n",
       "       [1],\n",
       "       [2],\n",
       "       [1],\n",
       "       [3],\n",
       "       [3],\n",
       "       [1],\n",
       "       [3],\n",
       "       [2],\n",
       "       [2],\n",
       "       [2],\n",
       "       [3],\n",
       "       [1],\n",
       "       [4],\n",
       "       [0],\n",
       "       [1],\n",
       "       [1],\n",
       "       [2],\n",
       "       [2],\n",
       "       [0],\n",
       "       [2],\n",
       "       [0],\n",
       "       [3],\n",
       "       [1],\n",
       "       [1],\n",
       "       [1],\n",
       "       [2],\n",
       "       [0],\n",
       "       [1],\n",
       "       [0],\n",
       "       [2],\n",
       "       [4],\n",
       "       [1],\n",
       "       [3],\n",
       "       [1],\n",
       "       [4],\n",
       "       [1],\n",
       "       [0],\n",
       "       [0],\n",
       "       [1],\n",
       "       [0],\n",
       "       [1],\n",
       "       [0],\n",
       "       [0],\n",
       "       [1],\n",
       "       [1],\n",
       "       [2],\n",
       "       [2],\n",
       "       [1],\n",
       "       [1],\n",
       "       [3],\n",
       "       [2],\n",
       "       [1],\n",
       "       [3],\n",
       "       [2],\n",
       "       [2],\n",
       "       [3],\n",
       "       [4],\n",
       "       [3],\n",
       "       [1],\n",
       "       [0],\n",
       "       [4],\n",
       "       [0],\n",
       "       [2],\n",
       "       [0],\n",
       "       [1],\n",
       "       [4],\n",
       "       [2],\n",
       "       [4],\n",
       "       [2],\n",
       "       [3],\n",
       "       [1],\n",
       "       [0],\n",
       "       [4],\n",
       "       [1],\n",
       "       [0],\n",
       "       [1],\n",
       "       [2],\n",
       "       [4],\n",
       "       [0],\n",
       "       [0],\n",
       "       [2],\n",
       "       [2],\n",
       "       [2],\n",
       "       [2],\n",
       "       [1],\n",
       "       [0],\n",
       "       [0],\n",
       "       [2],\n",
       "       [0],\n",
       "       [4],\n",
       "       [2],\n",
       "       [4],\n",
       "       [0],\n",
       "       [0],\n",
       "       [4],\n",
       "       [1],\n",
       "       [2],\n",
       "       [3],\n",
       "       [4],\n",
       "       [3],\n",
       "       [3],\n",
       "       [4],\n",
       "       [1],\n",
       "       [1],\n",
       "       [4],\n",
       "       [3],\n",
       "       [3],\n",
       "       [4],\n",
       "       [0],\n",
       "       [3],\n",
       "       [1],\n",
       "       [1],\n",
       "       [2],\n",
       "       [0],\n",
       "       [0],\n",
       "       [3],\n",
       "       [4],\n",
       "       [0],\n",
       "       [1],\n",
       "       [1],\n",
       "       [2],\n",
       "       [1],\n",
       "       [4],\n",
       "       [3],\n",
       "       [0],\n",
       "       [3],\n",
       "       [1],\n",
       "       [3],\n",
       "       [3],\n",
       "       [2],\n",
       "       [1],\n",
       "       [3],\n",
       "       [4],\n",
       "       [1],\n",
       "       [1],\n",
       "       [0],\n",
       "       [3],\n",
       "       [2],\n",
       "       [4],\n",
       "       [0],\n",
       "       [2],\n",
       "       [4],\n",
       "       [2],\n",
       "       [0],\n",
       "       [1],\n",
       "       [3],\n",
       "       [3],\n",
       "       [3],\n",
       "       [2]])"
      ]
     },
     "execution_count": 131,
     "metadata": {},
     "output_type": "execute_result"
    }
   ],
   "source": [
    "labels = np.random.randint(5,size=[len(data),1])\n",
    "labels"
   ]
  },
  {
   "cell_type": "code",
   "execution_count": 228,
   "metadata": {},
   "outputs": [],
   "source": [
    "centroids=np.array([[0,0],[0,0],[0,0],[0,0],[0,0]])\n",
    "def updateCentroids(centroids, labels):\n",
    "    for i in range(5):\n",
    "        idx = np.where(labels==i)\n",
    "        print(compute_centroid(data[idx[0]]))\n",
    "        centroids[i]=compute_centroid(data[idx[0]])\n",
    "   "
   ]
  },
  {
   "cell_type": "code",
   "execution_count": 229,
   "metadata": {},
   "outputs": [
    {
     "name": "stdout",
     "output_type": "stream",
     "text": [
      "[60.475, 50.375]\n",
      "[58.470588235294116, 54.78431372549019]\n",
      "[60.19047619047619, 53.857142857142854]\n",
      "[64.51351351351352, 37.486486486486484]\n",
      "[59.86666666666667, 52.733333333333334]\n"
     ]
    }
   ],
   "source": [
    "updateCentroids(centroids, labels)"
   ]
  },
  {
   "cell_type": "code",
   "execution_count": 230,
   "metadata": {},
   "outputs": [
    {
     "data": {
      "image/png": "[encoded data removed]",
      "text/plain": [
       "<Figure size 720x720 with 1 Axes>"
      ]
     },
     "metadata": {
      "needs_background": "light"
     },
     "output_type": "display_data"
    }
   ],
   "source": [
    "plt.figure(1,figsize=(10,10))\n",
    "plt.title(\"data point\")\n",
    "cdict = {0: 'red', 1: 'blue', 2: 'green', 3:'cyan', 4:'magenta'}\n",
    "for l in np.unique(labels):\n",
    "    idx = np.where(labels==l)\n",
    "    plt.scatter(data[idx[0],0],data[idx[0],1],c=cdict[l],label=\"class {}\".format(l+1),s=100 )\n",
    "plt.scatter(centroids[:,0],centroids[:,1],marker=\"+\",s=100,c=\"black\",label=\"Centroids\")\n",
    "plt.legend()\n",
    "plt.show()"
   ]
  },
  {
   "cell_type": "code",
   "execution_count": 227,
   "metadata": {},
   "outputs": [
    {
     "name": "stdout",
     "output_type": "stream",
     "text": [
      "label shape :  (200, 1)\n",
      "centroids shape :  (5, 2)\n",
      "data shape :  (200, 2)\n"
     ]
    }
   ],
   "source": [
    "print(\"labels shape : \", np.shape(labels))\n",
    "print(\"centroids shape : \", np.shape(centroids))\n",
    "print(\"data shape : \", np.shape(data))\n"
   ]
  },
  {
   "cell_type": "markdown",
   "metadata": {},
   "source": [
    "### plot the loss curve"
   ]
  },
  {
   "cell_type": "code",
   "execution_count": 199,
   "metadata": {},
   "outputs": [],
   "source": [
    "loss=np.zeros(100)\n",
    "for i in range(100):\n",
    "    loss=compute_loss()\n",
    "    compute_label\n",
    "    update_Centroids()"
   ]
  },
  {
   "cell_type": "code",
   "execution_count": 243,
   "metadata": {},
   "outputs": [],
   "source": [
    "def compute_distance(data, centroid):\n",
    "    \n",
    "    dist = (data[:,0]-centroid[0])**2+(data[:,1]-centroid[1])**2 #distance between a and b#\n",
    "\n",
    "    return dist\n"
   ]
  },
  {
   "cell_type": "code",
   "execution_count": 220,
   "metadata": {},
   "outputs": [
    {
     "name": "stdout",
     "output_type": "stream",
     "text": [
      "3\n"
     ]
    }
   ],
   "source": [
    "def compute_label(centroids):\n",
    "    temp=np.zeros(len(data),len(centroids))\n",
    "    for i in range(len(centroids)):\n",
    "        temp[:,i]=compute_distance(data,centroids[i])\n",
    "    label=np.argmin(temp)\n",
    "        \n",
    "    return label\n"
   ]
  },
  {
   "cell_type": "code",
   "execution_count": 237,
   "metadata": {},
   "outputs": [],
   "source": [
    "def compute_loss(lables, centroids):\n",
    "    loss=0\n",
    "    for i, centroid in zip(range(len(centroids)),centroids):\n",
    "        temp=0\n",
    "        idx=np.where(labels==i)\n",
    "\n",
    "        for point in data[idx[0]]:\n",
    "            print(point)\n",
    "            temp+=compute_distance(point,centroid)**2\n",
    "        loss+=temp/len(idx[0])\n",
    "    \n",
    "    return loss\n"
   ]
  },
  {
   "cell_type": "code",
   "execution_count": 242,
   "metadata": {},
   "outputs": [
    {
     "data": {
      "text/plain": [
       "200"
      ]
     },
     "execution_count": 242,
     "metadata": {},
     "output_type": "execute_result"
    }
   ],
   "source": [
    "len(data)"
   ]
  },
  {
   "cell_type": "code",
   "execution_count": 248,
   "metadata": {},
   "outputs": [],
   "source": [
    "np.shape(compute_distance(data,[0,1]))\n",
    "np.shape(data[:,0])\n",
    "np.shape(data[:,0])\n",
    "test=np.zeros([len(data),len(centroids)])\n",
    "test[:,0]=compute_distance(data,[0,1])"
   ]
  },
  {
   "cell_type": "code",
   "execution_count": 254,
   "metadata": {},
   "outputs": [
    {
     "data": {
      "text/plain": [
       "array([[ 1669.,     0.,     0.,     0.,     0.],\n",
       "       [ 6625.,     0.,     0.,     0.,     0.],\n",
       "       [  281.,     0.,     0.,     0.,     0.],\n",
       "       [ 6032.,     0.,     0.,     0.,     0.],\n",
       "       [ 1810.,     0.,     0.,     0.,     0.],\n",
       "       [ 5914.,     0.,     0.,     0.,     0.],\n",
       "       [  349.,     0.,     0.,     0.,     0.],\n",
       "       [ 8973.,     0.,     0.,     0.,     0.],\n",
       "       [  365.,     0.,     0.,     0.,     0.],\n",
       "       [ 5402.,     0.,     0.,     0.,     0.],\n",
       "       [  530.,     0.,     0.,     0.,     0.],\n",
       "       [ 9965.,     0.,     0.,     0.,     0.],\n",
       "       [  596.,     0.,     0.,     0.,     0.],\n",
       "       [ 6176.,     0.,     0.,     0.,     0.],\n",
       "       [  544.,     0.,     0.,     0.,     0.],\n",
       "       [ 6484.,     0.,     0.,     0.,     0.],\n",
       "       [ 1597.,     0.,     0.,     0.,     0.],\n",
       "       [ 4666.,     0.,     0.,     0.,     0.],\n",
       "       [ 1313.,     0.,     0.,     0.,     0.],\n",
       "       [ 9938.,     0.,     0.,     0.,     0.],\n",
       "       [ 1732.,     0.,     0.,     0.,     0.],\n",
       "       [ 5760.,     0.,     0.,     0.,     0.],\n",
       "       [  641.,     0.,     0.,     0.,     0.],\n",
       "       [ 5809.,     0.,     0.,     0.,     0.],\n",
       "       [  953.,     0.,     0.,     0.,     0.],\n",
       "       [ 7345.,     0.,     0.,     0.,     0.],\n",
       "       [ 1745.,     0.,     0.,     0.,     0.],\n",
       "       [ 4384.,     0.,     0.,     0.,     0.],\n",
       "       [ 1741.,     0.,     0.,     0.,     0.],\n",
       "       [ 8237.,     0.,     0.,     0.,     0.],\n",
       "       [  909.,     0.,     0.,     0.,     0.],\n",
       "       [ 6084.,     0.,     0.,     0.,     0.],\n",
       "       [ 1098.,     0.,     0.,     0.,     0.],\n",
       "       [ 9370.,     0.,     0.,     0.,     0.],\n",
       "       [ 1258.,     0.,     0.,     0.,     0.],\n",
       "       [ 7489.,     0.,     0.,     0.,     0.],\n",
       "       [ 1412.,     0.,     0.,     0.,     0.],\n",
       "       [ 6340.,     0.,     0.,     0.,     0.],\n",
       "       [ 1994.,     0.,     0.,     0.,     0.],\n",
       "       [ 6845.,     0.,     0.,     0.,     0.],\n",
       "       [ 2600.,     0.,     0.,     0.,     0.],\n",
       "       [ 9725.,     0.,     0.,     0.,     0.],\n",
       "       [ 2746.,     0.,     0.,     0.,     0.],\n",
       "       [ 5121.,     0.,     0.,     0.,     0.],\n",
       "       [ 2250.,     0.,     0.,     0.,     0.],\n",
       "       [ 5617.,     0.,     0.,     0.,     0.],\n",
       "       [ 4516.,     0.,     0.,     0.,     0.],\n",
       "       [ 3716.,     0.,     0.,     0.,     0.],\n",
       "       [ 3281.,     0.,     0.,     0.,     0.],\n",
       "       [ 3281.,     0.,     0.,     0.,     0.],\n",
       "       [ 4365.,     0.,     0.,     0.,     0.],\n",
       "       [ 5245.,     0.,     0.,     0.,     0.],\n",
       "       [ 4658.,     0.,     0.,     0.,     0.],\n",
       "       [ 5330.,     0.,     0.,     0.,     0.],\n",
       "       [ 3785.,     0.,     0.,     0.,     0.],\n",
       "       [ 3449.,     0.,     0.,     0.,     0.],\n",
       "       [ 4337.,     0.,     0.,     0.,     0.],\n",
       "       [ 3961.,     0.,     0.,     0.,     0.],\n",
       "       [ 4616.,     0.,     0.,     0.,     0.],\n",
       "       [ 4141.,     0.,     0.,     0.,     0.],\n",
       "       [ 5141.,     0.,     0.,     0.,     0.],\n",
       "       [ 5032.,     0.,     0.,     0.,     0.],\n",
       "       [ 4810.,     0.,     0.,     0.,     0.],\n",
       "       [ 5573.,     0.,     0.,     0.,     0.],\n",
       "       [ 4804.,     0.,     0.,     0.,     0.],\n",
       "       [ 5668.,     0.,     0.,     0.,     0.],\n",
       "       [ 4705.,     0.,     0.,     0.,     0.],\n",
       "       [ 4513.,     0.,     0.,     0.,     0.],\n",
       "       [ 5668.,     0.,     0.,     0.,     0.],\n",
       "       [ 4420.,     0.,     0.,     0.,     0.],\n",
       "       [ 5317.,     0.,     0.,     0.,     0.],\n",
       "       [ 4082.,     0.,     0.,     0.,     0.],\n",
       "       [ 4804.,     0.,     0.,     0.,     0.],\n",
       "       [ 5525.,     0.,     0.,     0.,     0.],\n",
       "       [ 5032.,     0.,     0.,     0.,     0.],\n",
       "       [ 5725.,     0.,     0.,     0.,     0.],\n",
       "       [ 5620.,     0.,     0.,     0.,     0.],\n",
       "       [ 5125.,     0.,     0.,     0.,     0.],\n",
       "       [ 5517.,     0.,     0.,     0.,     0.],\n",
       "       [ 4597.,     0.,     0.,     0.,     0.],\n",
       "       [ 5416.,     0.,     0.,     0.,     0.],\n",
       "       [ 5832.,     0.,     0.,     0.,     0.],\n",
       "       [ 4516.,     0.,     0.,     0.,     0.],\n",
       "       [ 4765.,     0.,     0.,     0.,     0.],\n",
       "       [ 6052.,     0.,     0.,     0.,     0.],\n",
       "       [ 4941.,     0.,     0.,     0.,     0.],\n",
       "       [ 6498.,     0.,     0.,     0.,     0.],\n",
       "       [ 6165.,     0.,     0.,     0.,     0.],\n",
       "       [ 6845.,     0.,     0.,     0.,     0.],\n",
       "       [ 5389.,     0.,     0.,     0.,     0.],\n",
       "       [ 6397.,     0.,     0.,     0.,     0.],\n",
       "       [ 5081.,     0.,     0.,     0.,     0.],\n",
       "       [ 5904.,     0.,     0.,     0.,     0.],\n",
       "       [ 5121.,     0.,     0.,     0.,     0.],\n",
       "       [ 5281.,     0.,     0.,     0.,     0.],\n",
       "       [ 6201.,     0.,     0.,     0.,     0.],\n",
       "       [ 5716.,     0.,     0.,     0.,     0.],\n",
       "       [ 6001.,     0.,     0.,     0.,     0.],\n",
       "       [ 5402.,     0.,     0.,     0.,     0.],\n",
       "       [ 6025.,     0.,     0.,     0.,     0.],\n",
       "       [ 5444.,     0.,     0.,     0.,     0.],\n",
       "       [ 6053.,     0.,     0.,     0.,     0.],\n",
       "       [ 7208.,     0.,     0.,     0.,     0.],\n",
       "       [ 6760.,     0.,     0.,     0.,     0.],\n",
       "       [ 6869.,     0.,     0.,     0.,     0.],\n",
       "       [ 5525.,     0.,     0.,     0.,     0.],\n",
       "       [ 6370.,     0.,     0.,     0.,     0.],\n",
       "       [ 5994.,     0.,     0.,     0.,     0.],\n",
       "       [ 5733.,     0.,     0.,     0.,     0.],\n",
       "       [ 6178.,     0.,     0.,     0.,     0.],\n",
       "       [ 6570.,     0.,     0.,     0.,     0.],\n",
       "       [ 6778.,     0.,     0.,     0.,     0.],\n",
       "       [ 5777.,     0.,     0.,     0.,     0.],\n",
       "       [ 6121.,     0.,     0.,     0.,     0.],\n",
       "       [ 6434.,     0.,     0.,     0.,     0.],\n",
       "       [ 6626.,     0.,     0.,     0.,     0.],\n",
       "       [ 5989.,     0.,     0.,     0.,     0.],\n",
       "       [ 7589.,     0.,     0.,     0.,     0.],\n",
       "       [ 6253.,     0.,     0.,     0.,     0.],\n",
       "       [ 7625.,     0.,     0.,     0.,     0.],\n",
       "       [ 7514.,     0.,     0.,     0.,     0.],\n",
       "       [ 6010.,     0.,     0.,     0.,     0.],\n",
       "       [ 8010.,     0.,     0.,     0.,     0.],\n",
       "       [12861.,     0.,     0.,     0.,     0.],\n",
       "       [ 5684.,     0.,     0.,     0.,     0.],\n",
       "       [10676.,     0.,     0.,     0.,     0.],\n",
       "       [ 6197.,     0.,     0.,     0.,     0.],\n",
       "       [13877.,     0.,     0.,     0.,     0.],\n",
       "       [ 5141.,     0.,     0.,     0.,     0.],\n",
       "       [10517.,     0.,     0.,     0.,     0.],\n",
       "       [ 5105.,     0.,     0.,     0.,     0.],\n",
       "       [10517.,     0.,     0.,     0.,     0.],\n",
       "       [ 6273.,     0.,     0.,     0.,     0.],\n",
       "       [10084.,     0.,     0.,     0.,     0.],\n",
       "       [ 5345.,     0.,     0.,     0.,     0.],\n",
       "       [12898.,     0.,     0.,     0.,     0.],\n",
       "       [ 5365.,     0.,     0.,     0.,     0.],\n",
       "       [10513.,     0.,     0.,     0.,     0.],\n",
       "       [ 5557.,     0.,     0.,     0.,     0.],\n",
       "       [10517.,     0.,     0.,     0.,     0.],\n",
       "       [ 5641.,     0.,     0.,     0.,     0.],\n",
       "       [14089.,     0.,     0.,     0.,     0.],\n",
       "       [ 7297.,     0.,     0.,     0.,     0.],\n",
       "       [13172.,     0.,     0.,     0.,     0.],\n",
       "       [ 6050.,     0.,     0.,     0.,     0.],\n",
       "       [15145.,     0.,     0.,     0.,     0.],\n",
       "       [ 7154.,     0.,     0.,     0.,     0.],\n",
       "       [11258.,     0.,     0.,     0.,     0.],\n",
       "       [ 6525.,     0.,     0.,     0.,     0.],\n",
       "       [14005.,     0.,     0.,     0.,     0.],\n",
       "       [ 6340.,     0.,     0.,     0.,     0.],\n",
       "       [13653.,     0.,     0.,     0.,     0.],\n",
       "       [ 6445.,     0.,     0.,     0.,     0.],\n",
       "       [11709.,     0.,     0.,     0.,     0.],\n",
       "       [ 6309.,     0.,     0.,     0.,     0.],\n",
       "       [13828.,     0.,     0.,     0.,     0.],\n",
       "       [ 6084.,     0.,     0.,     0.,     0.],\n",
       "       [12013.,     0.,     0.,     0.,     0.],\n",
       "       [ 6084.,     0.,     0.,     0.,     0.],\n",
       "       [11268.,     0.,     0.,     0.,     0.],\n",
       "       [ 7397.,     0.,     0.,     0.,     0.],\n",
       "       [12965.,     0.,     0.,     0.,     0.],\n",
       "       [ 6577.,     0.,     0.,     0.,     0.],\n",
       "       [15025.,     0.,     0.,     0.,     0.],\n",
       "       [ 7850.,     0.,     0.,     0.,     0.],\n",
       "       [12701.,     0.,     0.,     0.,     0.],\n",
       "       [ 7757.,     0.,     0.,     0.,     0.],\n",
       "       [16232.,     0.,     0.,     0.,     0.],\n",
       "       [ 8245.,     0.,     0.,     0.,     0.],\n",
       "       [11413.,     0.,     0.,     0.,     0.],\n",
       "       [ 7713.,     0.,     0.,     0.,     0.],\n",
       "       [13045.,     0.,     0.,     0.,     0.],\n",
       "       [ 7650.,     0.,     0.,     0.,     0.],\n",
       "       [15850.,     0.,     0.,     0.,     0.],\n",
       "       [ 7888.,     0.,     0.,     0.,     0.],\n",
       "       [14969.,     0.,     0.,     0.,     0.],\n",
       "       [ 7940.,     0.,     0.,     0.,     0.],\n",
       "       [12368.,     0.,     0.,     0.,     0.],\n",
       "       [ 8818.,     0.,     0.,     0.,     0.],\n",
       "       [16570.,     0.,     0.,     0.,     0.],\n",
       "       [10370.,     0.,     0.,     0.,     0.],\n",
       "       [16634.,     0.,     0.,     0.,     0.],\n",
       "       [ 9800.,     0.,     0.,     0.,     0.],\n",
       "       [17173.,     0.,     0.,     0.,     0.],\n",
       "       [11245.,     0.,     0.,     0.,     0.],\n",
       "       [19017.,     0.,     0.,     0.,     0.],\n",
       "       [10730.,     0.,     0.,     0.,     0.],\n",
       "       [14690.,     0.,     0.,     0.,     0.],\n",
       "       [10865.,     0.,     0.,     0.,     0.],\n",
       "       [17665.,     0.,     0.,     0.,     0.],\n",
       "       [11093.,     0.,     0.,     0.,     0.],\n",
       "       [15233.,     0.,     0.,     0.,     0.],\n",
       "       [12818.,     0.,     0.,     0.,     0.],\n",
       "       [20869.,     0.,     0.,     0.,     0.],\n",
       "       [14625.,     0.,     0.,     0.,     0.],\n",
       "       [20484.,     0.,     0.,     0.,     0.],\n",
       "       [16605.,     0.,     0.,     0.,     0.],\n",
       "       [21205.,     0.,     0.,     0.,     0.],\n",
       "       [19058.,     0.,     0.,     0.,     0.],\n",
       "       [25493.,     0.,     0.,     0.,     0.]])"
      ]
     },
     "execution_count": 254,
     "metadata": {},
     "output_type": "execute_result"
    }
   ],
   "source": [
    "np.argmax(test,axis=1)\n",
    "test"
   ]
  },
  {
   "cell_type": "code",
   "execution_count": 238,
   "metadata": {},
   "outputs": [
    {
     "name": "stdout",
     "output_type": "stream",
     "text": [
      "======= label ====== 0\n",
      "[17 76]\n",
      "[19 72]\n",
      "[21 66]\n",
      "[23 29]\n",
      "[24 73]\n",
      "[28 61]\n",
      "[29 31]\n",
      "[39 36]\n",
      "[39 65]\n",
      "[40 55]\n",
      "[48 51]\n",
      "[48 47]\n",
      "[49 42]\n",
      "[54 48]\n",
      "[54 42]\n",
      "[57 55]\n",
      "[58 60]\n",
      "[59 55]\n",
      "[60 49]\n",
      "[60 40]\n",
      "[63 52]\n",
      "[64 42]\n",
      "[65 48]\n",
      "[69 58]\n",
      "[70 77]\n",
      "[71 75]\n",
      "[71  9]\n",
      "[73  7]\n",
      "[73 73]\n",
      "[74 72]\n",
      "[76 87]\n",
      "[77 12]\n",
      "[78 73]\n",
      "[85 26]\n",
      "[85 75]\n",
      "[87 27]\n",
      "[88 86]\n",
      "[101  24]\n",
      "[103  23]\n",
      "[120  16]\n",
      "======= label ====== 1\n",
      "[18  6]\n",
      "[19 99]\n",
      "[20 79]\n",
      "[23 98]\n",
      "[28 14]\n",
      "[29 87]\n",
      "[30 73]\n",
      "[33 92]\n",
      "[33 81]\n",
      "[34 73]\n",
      "[39 61]\n",
      "[40 42]\n",
      "[42 60]\n",
      "[43 60]\n",
      "[44 50]\n",
      "[47 52]\n",
      "[48 59]\n",
      "[48 50]\n",
      "[50 56]\n",
      "[54 47]\n",
      "[54 54]\n",
      "[54 52]\n",
      "[54 41]\n",
      "[54 57]\n",
      "[57 58]\n",
      "[58 46]\n",
      "[59 41]\n",
      "[60 42]\n",
      "[60 52]\n",
      "[61 42]\n",
      "[61 49]\n",
      "[62 59]\n",
      "[63 48]\n",
      "[65 50]\n",
      "[67 40]\n",
      "[70 29]\n",
      "[71 35]\n",
      "[73 88]\n",
      "[77 36]\n",
      "[78 76]\n",
      "[78 16]\n",
      "[79 83]\n",
      "[81  5]\n",
      "[87 63]\n",
      "[87 13]\n",
      "[87 10]\n",
      "[88 69]\n",
      "[97 86]\n",
      "[99 39]\n",
      "[99 97]\n",
      "[120  79]\n",
      "======= label ====== 2\n",
      "[15 81]\n",
      "[16 77]\n",
      "[20 15]\n",
      "[24 35]\n",
      "[28 82]\n",
      "[28 32]\n",
      "[33  4]\n",
      "[40 47]\n",
      "[40 42]\n",
      "[42 52]\n",
      "[43 54]\n",
      "[46 51]\n",
      "[46 46]\n",
      "[46 56]\n",
      "[48 48]\n",
      "[48 59]\n",
      "[49 55]\n",
      "[54 53]\n",
      "[54 51]\n",
      "[60 47]\n",
      "[60 50]\n",
      "[62 48]\n",
      "[62 56]\n",
      "[62 42]\n",
      "[64 46]\n",
      "[65 59]\n",
      "[67 57]\n",
      "[71 95]\n",
      "[71 75]\n",
      "[72 34]\n",
      "[72 71]\n",
      "[73  5]\n",
      "[74 10]\n",
      "[75 93]\n",
      "[77 74]\n",
      "[81 93]\n",
      "[87 75]\n",
      "[97 32]\n",
      "[103  17]\n",
      "[103  69]\n",
      "[113  91]\n",
      "[137  83]\n",
      "======= label ====== 3\n",
      "[16  6]\n",
      "[19  3]\n",
      "[19 14]\n",
      "[20 13]\n",
      "[30  4]\n",
      "[33 14]\n",
      "[34 17]\n",
      "[37 75]\n",
      "[38 92]\n",
      "[39 28]\n",
      "[43 45]\n",
      "[43 41]\n",
      "[44 46]\n",
      "[46 55]\n",
      "[50 49]\n",
      "[54 44]\n",
      "[62 41]\n",
      "[62 55]\n",
      "[63 50]\n",
      "[63 43]\n",
      "[67 56]\n",
      "[78 22]\n",
      "[78 17]\n",
      "[78 88]\n",
      "[78  1]\n",
      "[78 78]\n",
      "[79 35]\n",
      "[86 20]\n",
      "[88 13]\n",
      "[88 15]\n",
      "[93 14]\n",
      "[93 90]\n",
      "[98 15]\n",
      "[101  68]\n",
      "[126  28]\n",
      "[126  74]\n",
      "[137  18]\n",
      "======= label ====== 4\n",
      "[15 39]\n",
      "[17 40]\n",
      "[18 94]\n",
      "[20 77]\n",
      "[21 35]\n",
      "[25  5]\n",
      "[25 73]\n",
      "[37 26]\n",
      "[38 35]\n",
      "[47 59]\n",
      "[54 55]\n",
      "[54 46]\n",
      "[63 46]\n",
      "[63 54]\n",
      "[65 43]\n",
      "[67 43]\n",
      "[69 91]\n",
      "[71 11]\n",
      "[75  5]\n",
      "[76 40]\n",
      "[77 97]\n",
      "[78 90]\n",
      "[78 20]\n",
      "[78 89]\n",
      "[78  1]\n",
      "[86 95]\n",
      "[87 92]\n",
      "[98 88]\n",
      "[103  85]\n",
      "[113   8]\n"
     ]
    },
    {
     "data": {
      "text/plain": [
       "6722.065614353849"
      ]
     },
     "execution_count": 238,
     "metadata": {},
     "output_type": "execute_result"
    }
   ],
   "source": [
    "compute_loss(labels, centroids)"
   ]
  },
  {
   "cell_type": "code",
   "execution_count": null,
   "metadata": {},
   "outputs": [],
   "source": []
  },
  {
   "cell_type": "code",
   "execution_count": null,
   "metadata": {},
   "outputs": [],
   "source": []
  },
  {
   "cell_type": "markdown",
   "metadata": {},
   "source": [
    "# outputs"
   ]
  },
  {
   "cell_type": "markdown",
   "metadata": {},
   "source": [
    "## 1. Plot the data points [1pt]"
   ]
  },
  {
   "cell_type": "code",
   "execution_count": 76,
   "metadata": {},
   "outputs": [
    {
     "data": {
      "image/png": "[encoded data removed]",
      "text/plain": [
       "<Figure size 720x720 with 1 Axes>"
      ]
     },
     "metadata": {
      "needs_background": "light"
     },
     "output_type": "display_data"
    }
   ],
   "source": [
    "plt.figure(1,figsize=(10,10))\n",
    "plt.title(\"data point\")\n",
    "plt.scatter(data[:,0],data[:,1],c=\"black\",label=\"data\")\n",
    "plt.legend()\n",
    "plt.show()"
   ]
  },
  {
   "cell_type": "markdown",
   "metadata": {},
   "source": [
    "## 2. Visualise the initial condition of the point labels [1pt]"
   ]
  },
  {
   "cell_type": "code",
   "execution_count": 217,
   "metadata": {},
   "outputs": [
    {
     "data": {
      "image/png": "[encoded data removed]",
      "text/plain": [
       "<Figure size 720x720 with 1 Axes>"
      ]
     },
     "metadata": {
      "needs_background": "light"
     },
     "output_type": "display_data"
    }
   ],
   "source": [
    "plt.figure(1,figsize=(10,10))\n",
    "plt.title(\"data point\")\n",
    "cdict = {0: 'red', 1: 'blue', 2: 'green', 3:'cyan', 4:'magenta'}\n",
    "for l in np.unique(labels):\n",
    "    idx = np.where(labels==l)\n",
    "    plt.scatter(data[idx[0],0],data[idx[0],1],c=cdict[l],label=\"class {}\".format(l+1),s=100 )\n",
    "plt.scatter(centroids[:,0],centroids[:,1],marker=\"+\",s=100,c=\"black\",label=\"Centroids\")\n",
    "plt.legend()\n",
    "plt.show()"
   ]
  },
  {
   "cell_type": "markdown",
   "metadata": {},
   "source": [
    "## 3. Plot the loss curve [5pt]"
   ]
  },
  {
   "cell_type": "code",
   "execution_count": null,
   "metadata": {},
   "outputs": [],
   "source": []
  },
  {
   "cell_type": "markdown",
   "metadata": {},
   "source": [
    "## 4. Plot the centroid of each clsuter [5pt]"
   ]
  },
  {
   "cell_type": "code",
   "execution_count": null,
   "metadata": {},
   "outputs": [],
   "source": []
  },
  {
   "cell_type": "markdown",
   "metadata": {},
   "source": [
    "## 5. Plot the final clustering result [5pt]"
   ]
  },
  {
   "cell_type": "code",
   "execution_count": null,
   "metadata": {},
   "outputs": [],
   "source": []
  }
 ],
 "metadata": {
  "kernelspec": {
   "display_name": "Python 3",
   "language": "python",
   "name": "python3"
  },
  "language_info": {
   "codemirror_mode": {
    "name": "ipython",
    "version": 3
   },
   "file_extension": ".py",
   "mimetype": "text/x-python",
   "name": "python",
   "nbconvert_exporter": "python",
   "pygments_lexer": "ipython3",
   "version": "3.8.3"
  }
 },
 "nbformat": 4,
 "nbformat_minor": 4
}
