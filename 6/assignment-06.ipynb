{
 "cells": [
  {
   "cell_type": "markdown",
   "metadata": {},
   "source": [
    "# Load Data"
   ]
  },
  {
   "cell_type": "code",
   "execution_count": null,
   "metadata": {},
   "outputs": [],
   "source": [
    "import numpy as np\n",
    "import matplotlib.pyplot as plt\n",
    "\n",
    "# import data with numpy\n",
    "data_train  = np.loadtxt('training.txt', delimiter=',')\n",
    "data_test   = np.loadtxt('testing.txt', delimiter=',')\n",
    "\n",
    "# number of training data\n",
    "number_data_train   = data_train.shape[0] \n",
    "number_data_test    = data_test.shape[0]\n",
    "\n",
    "# training data\n",
    "x1_train            = data_train[:,0] # feature 1\n",
    "x2_train            = data_train[:,1] # feature 2\n",
    "idx_class0_train    = (data_train[:,2]==0) # index of class0\n",
    "idx_class1_train    = (data_train[:,2]==1) # index of class1\n",
    "\n",
    "# testing data\n",
    "x1_test             = data_test[:,0] # feature 1\n",
    "x2_test             = data_test[:,1] # feature 2\n",
    "idx_class0_test     = (data_test[:,2]==0) # index of class0\n",
    "idx_class1_test     = (data_test[:,2]==1) # index of class1\n"
   ]
  }
 ],
 "metadata": {
  "kernelspec": {
   "display_name": "Python 3",
   "language": "python",
   "name": "python3"
  },
  "language_info": {
   "codemirror_mode": {
    "name": "ipython",
    "version": 3
   },
   "file_extension": ".py",
   "mimetype": "text/x-python",
   "name": "python",
   "nbconvert_exporter": "python",
   "pygments_lexer": "ipython3",
   "version": "3.8.3"
  }
 },
 "nbformat": 4,
 "nbformat_minor": 4
}
