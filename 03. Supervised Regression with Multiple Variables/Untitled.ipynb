{
 "cells": [
  {
   "cell_type": "code",
   "execution_count": 10,
   "metadata": {},
   "outputs": [
    {
     "name": "stdout",
     "output_type": "stream",
     "text": [
      "아이디: TK\n",
      "아이디 일치\n",
      "비밀번호: 123\n",
      "비밀번호 불일치\n",
      "비밀번호: skku\n",
      "비밀번호 일치\n"
     ]
    }
   ],
   "source": [
    "ID=\"TK\"\n",
    "password=\"skku\"\n",
    "count=0\n",
    "\n",
    "name=input('아이디: ')\n",
    "if name==ID:\n",
    "    print('아이디 일치')\n",
    "    \n",
    "    while(True):\n",
    "        school=input('비밀번호: ')\n",
    "        if school==password:\n",
    "            print('비밀번호 일치')\n",
    "            break\n",
    "        else:\n",
    "            count+=1\n",
    "            if(count==3):\n",
    "                print(\"입력횟수 초과\")\n",
    "                break\n",
    "            print(\"비밀번호 불일치\")\n",
    "else:\n",
    "    print(\"아이디 불일치\")\n",
    "        \n"
   ]
  },
  {
   "cell_type": "code",
   "execution_count": null,
   "metadata": {},
   "outputs": [],
   "source": []
  }
 ],
 "metadata": {
  "kernelspec": {
   "display_name": "Python 3",
   "language": "python",
   "name": "python3"
  },
  "language_info": {
   "codemirror_mode": {
    "name": "ipython",
    "version": 3
   },
   "file_extension": ".py",
   "mimetype": "text/x-python",
   "name": "python",
   "nbconvert_exporter": "python",
   "pygments_lexer": "ipython3",
   "version": "3.8.3"
  }
 },
 "nbformat": 4,
 "nbformat_minor": 4
}
