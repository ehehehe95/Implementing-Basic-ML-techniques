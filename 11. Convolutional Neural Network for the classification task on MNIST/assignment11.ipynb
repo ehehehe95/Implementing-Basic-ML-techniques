{
 "cells": [
  {
   "cell_type": "code",
   "execution_count": 15,
   "metadata": {},
   "outputs": [],
   "source": [
    "import torch\n",
    "from torch import nn\n",
    "from torchvision import datasets, transforms\n",
    "import torch.nn.functional as F\n",
    "import numpy as np\n",
    "import matplotlib.pyplot as plt"
   ]
  },
  {
   "cell_type": "markdown",
   "metadata": {},
   "source": [
    "## Normalize data with testing data\n",
    "##### use default normalizing condition which is mean, std of mnist training dataset which we use as testing data"
   ]
  },
  {
   "cell_type": "code",
   "execution_count": 16,
   "metadata": {},
   "outputs": [],
   "source": [
    "transform = transforms.Compose([\n",
    "    transforms.ToTensor(),\n",
    "    transforms.Normalize((0.1307,),(0.3081,)),  # mean value = 0.1307, standard deviation value = 0.3081\n",
    "])\n"
   ]
  },
  {
   "cell_type": "markdown",
   "metadata": {},
   "source": [
    "## Use Mnist train as test and vice versa"
   ]
  },
  {
   "cell_type": "code",
   "execution_count": 17,
   "metadata": {},
   "outputs": [],
   "source": [
    "data_path = './MNIST'\n",
    "\n",
    "data_test   = datasets.MNIST(root = data_path, train= True, download=True, transform= transform)\n",
    "data_train  = datasets.MNIST(root = data_path, train= False, download=True, transform= transform)\n"
   ]
  },
  {
   "cell_type": "code",
   "execution_count": 18,
   "metadata": {},
   "outputs": [
    {
     "name": "stdout",
     "output_type": "stream",
     "text": [
      "the number of your training data (must be 10,000) =  10000\n",
      "hte number of your testing data (must be 60,000) =  60000\n"
     ]
    }
   ],
   "source": [
    "print(\"the number of your training data (must be 10,000) = \", data_train.__len__())\n",
    "print(\"hte number of your testing data (must be 60,000) = \", data_test.__len__())\n"
   ]
  },
  {
   "cell_type": "markdown",
   "metadata": {},
   "source": [
    "## Optimization\n",
    "#### use any stochastic gradient descent algorithm for the optimization\n",
    "#### use any size of the mini-batch\n",
    "#### use any optimization algorithm (for example, Momentum, AdaGrad, RMSProp, Adam)\n",
    "#### use any regularization algorithm (for example, Dropout, Weight Decay)\n",
    "#### use any annealing scheme for the learning rate (for example, constant, decay, staircase)"
   ]
  },
  {
   "cell_type": "markdown",
   "metadata": {},
   "source": [
    "## Desigining Model\n",
    "#### design a neural network architecture with a combination of convolutional layers and fully connected layers\n",
    "#### use any number of feature layers (convolutional layers)\n",
    "#### use any size of convolutional kernel_size\n",
    "#### use any number of classification layers (fully connected layers)\n",
    "#### use any dimension of classification layers\n",
    "#### use any type of activation functions\n",
    "#### one example model of the convolutional neural network is as follows:"
   ]
  },
  {
   "cell_type": "code",
   "execution_count": 47,
   "metadata": {},
   "outputs": [],
   "source": [
    "import torch.nn as nn\n",
    "import torch.nn.functional as F\n",
    "import math\n",
    "\n",
    "class MyModel(nn.Module):\n",
    "\n",
    "    def __init__(self, num_classes=10, size_kernel=5):\n",
    "\n",
    "        super(MyModel, self).__init__()\n",
    "\n",
    "        # *********************************************************************\n",
    "        # input parameter\n",
    "        #\n",
    "        # data size:\n",
    "        #   mnist   : 28 * 28\n",
    "        # *********************************************************************\n",
    "        self.number_class   = num_classes\n",
    "        self.size_kernel    = size_kernel        \n",
    "        \n",
    "        # *********************************************************************\n",
    "        # feature layer\n",
    "        # *********************************************************************\n",
    "        self.conv1          = nn.Conv2d(1, 20, kernel_size=size_kernel, stride=1, padding=int((size_kernel-1)/2), bias=True)\n",
    "        self.conv2          = nn.Conv2d(20, 50, kernel_size=size_kernel, stride=1, padding=int((size_kernel-1)/2), bias=True)\n",
    "\n",
    "        self.conv_layer1    = nn.Sequential(self.conv1, nn.MaxPool2d(kernel_size=2), nn.ReLU(True))\n",
    "        self.conv_layer2    = nn.Sequential(self.conv2, nn.MaxPool2d(kernel_size=2), nn.ReLU(True))\n",
    "\n",
    "        self.feature        = nn.Sequential(self.conv_layer1, self.conv_layer2)\n",
    "        \n",
    "        # *********************************************************************\n",
    "        # classifier layer\n",
    "        # *********************************************************************\n",
    "        self.fc1        = nn.Linear(50*7*7, 50, bias=True)\n",
    "        self.fc2        = nn.Linear(50, num_classes, bias=True)\n",
    "\n",
    "        self.fc_layer1  = nn.Sequential(self.fc1, nn.ReLU(True))\n",
    "        self.fc_layer2  = nn.Sequential(self.fc2, nn.ReLU(True))\n",
    "\n",
    "        self.classifier = nn.Sequential(self.fc_layer1, self.fc_layer2)\n",
    "        \n",
    "        self._initialize_weight()        \n",
    "        \n",
    "    def _initialize_weight(self):\n",
    "\n",
    "        for m in self.modules():\n",
    "            \n",
    "            if isinstance(m, nn.Conv2d):\n",
    "                \n",
    "                nn.init.xavier_uniform_(m.weight, gain=math.sqrt(2))\n",
    "\n",
    "                if m.bias is not None:\n",
    "\n",
    "                    m.bias.data.zero_()\n",
    "\n",
    "            elif isinstance(m, nn.Linear):\n",
    "\n",
    "                nn.init.xavier_uniform_(m.weight, gain=math.sqrt(2))\n",
    "                \n",
    "                if m.bias is not None:\n",
    "\n",
    "                    m.bias.data.zero_()\n",
    "\n",
    "    def forward(self, x):\n",
    "\n",
    "        x = self.feature(x)\n",
    "        x = x.view(x.size(0), -1)\n",
    "        x = self.classifier(x)\n",
    "\n",
    "        return x\n"
   ]
  },
  {
   "cell_type": "code",
   "execution_count": 54,
   "metadata": {},
   "outputs": [],
   "source": [
    "classifier1 = MyModel().to(\"cuda\")"
   ]
  },
  {
   "cell_type": "markdown",
   "metadata": {},
   "source": [
    "# Define a learning function\n"
   ]
  },
  {
   "cell_type": "code",
   "execution_count": 46,
   "metadata": {},
   "outputs": [],
   "source": [
    "from torch.optim.lr_scheduler import StepLR\n",
    "\n",
    "def startTraining(batch_size,epoch,learning_rate_value, optimizer_string, learning_rate_decay, classifier):\n",
    "    #start training \n",
    "    start_time = time.time()\n",
    "    print(\"start training for\", optimizer_string)\n",
    "    device = \"cuda\"\n",
    "    \n",
    "    optimizer = torch.optim.SGD(classifier.parameters(), lr=learning_rate_value)\n",
    "    if optimizer_string == \"Adam\":\n",
    "        optimizer = torch.optim.Adam(classifier.parameters(), lr=learning_rate_value)\n",
    "    if optimizer_string == \"RMSprop\":\n",
    "        optimizer = torch.optim.RMSprop(classifier.parameters(), lr=learning_rate_value)\n",
    "    if optimizer_string == \"Adagrad\":\n",
    "        optimizer = torch.optim.Adagrad(classifier.parameters(), lr=learning_rate_value)\n",
    "    criterion = nn.CrossEntropyLoss();\n",
    "    #define array to save values\n",
    "    \n",
    "    scheduler = StepLR(optimizer, step_size=10, gamma = learning_rate_decay)\n",
    "    \n",
    "    \n",
    "    loss_train_arr=np.zeros(epoch)\n",
    "    accuracy_train_arr=np.zeros(epoch)\n",
    "    loss_test_arr=np.zeros(epoch)\n",
    "    accuracy_test_arr=np.zeros(epoch)\n",
    "\n",
    "    batched_train = torch.utils.data.DataLoader(data_train, batch_size, shuffle=True)\n",
    "    batched_test = torch.utils.data.DataLoader(data_test, batch_size, shuffle=True)\n",
    "    \n",
    "    best_accuracy = 0.9\n",
    "    best_epoch = 0;\n",
    "    \n",
    "    for i in range(epoch):\n",
    "        loss_train=0\n",
    "        accuracy_train=0\n",
    "        loss_test=0\n",
    "        accuracy_test=0\n",
    "        \n",
    "        classifier.train()\n",
    "        #train and compute loss, accuracy\n",
    "        for img, label in batched_train:\n",
    "            img=img.to(device)\n",
    "            label=label.to(device)\n",
    "            optimizer.zero_grad()\n",
    "            predicted = classifier(img)\n",
    "\n",
    "            label_predicted = torch.argmax(predicted,dim=1)\n",
    "            loss = criterion(predicted, label)\n",
    "            loss.backward()\n",
    "            optimizer.step()\n",
    "            \n",
    "\n",
    "            loss_train += loss.item()\n",
    "            accuracy_train += torch.sum(label_predicted==label)\n",
    "        scheduler.step()\n",
    "\n",
    "        loss_train_arr[i]=loss_train/(len(batched_train)) \n",
    "        accuracy_train_arr[i]=accuracy_train/len(batched_train.dataset)\n",
    "        \n",
    "        classifier.eval()\n",
    "        #test, no need to backward, step\n",
    "        for img, label in batched_test:\n",
    "            img=img.to(device)\n",
    "            label=label.to(device)\n",
    "            \n",
    "            with torch.autograd.no_grad():\n",
    "                predicted = classifier(img)\n",
    "                label_predicted = torch.argmax(predicted,dim=1)\n",
    "                loss = criterion(predicted, label)\n",
    "\n",
    "                loss_test += loss.item()\n",
    "                accuracy_test += torch.sum(label_predicted==label)\n",
    "\n",
    "        loss_test_arr[i]=loss_test/(len(batched_test))\n",
    "        accuracy_test_arr[i]=accuracy_test/len(batched_test.dataset)\n",
    "        \n",
    "        if accuracy_test_arr[i] > best_accuracy:\n",
    "            best_accuracy = accuracy_test_arr[i]\n",
    "            best_epoch = i\n",
    "            print(\"epoch \", i, \"reached best accuracy \", best_accuracy, '%');\n",
    "        \n",
    "\n",
    "        if i%10==0:\n",
    "            print(\"epoch \",i)\n",
    "            print(\"train loss\", loss_train_arr[i],\"train accuracy: \",accuracy_train_arr[i])\n",
    "            print(\"test loss\", loss_test_arr[i],\"test accuracy\", accuracy_test_arr[i])\n",
    "            \n",
    "    print(\"execution time =======\", time.time()-start_time)\n",
    "    \n",
    "    \n",
    "    return loss_train_arr, loss_test_arr, accuracy_train_arr, accuracy_test_arr, best_epoch\n"
   ]
  },
  {
   "cell_type": "markdown",
   "metadata": {},
   "source": [
    "## Loss function - cross entropy"
   ]
  },
  {
   "cell_type": "code",
   "execution_count": 26,
   "metadata": {},
   "outputs": [],
   "source": [
    "criterion = nn.CrossEntropyLoss()"
   ]
  },
  {
   "cell_type": "markdown",
   "metadata": {},
   "source": [
    "## Start Training for first model"
   ]
  },
  {
   "cell_type": "code",
   "execution_count": 52,
   "metadata": {},
   "outputs": [],
   "source": [
    "batch_size = 32\n",
    "epoch = 100\n",
    "learning_rate_value = 0.1\n",
    "weight_decay = 0.7"
   ]
  },
  {
   "cell_type": "code",
   "execution_count": 53,
   "metadata": {
    "scrolled": true
   },
   "outputs": [
    {
     "ename": "NameError",
     "evalue": "name 'classifier1' is not defined",
     "output_type": "error",
     "traceback": [
      "\u001b[1;31m---------------------------------------------------------------------------\u001b[0m",
      "\u001b[1;31mNameError\u001b[0m                                 Traceback (most recent call last)",
      "\u001b[1;32m<ipython-input-53-f66ed1329381>\u001b[0m in \u001b[0;36m<module>\u001b[1;34m\u001b[0m\n\u001b[1;32m----> 1\u001b[1;33m \u001b[0mloss_train_adam\u001b[0m\u001b[1;33m,\u001b[0m \u001b[0mloss_test_adam\u001b[0m\u001b[1;33m,\u001b[0m \u001b[0macc_train_adam\u001b[0m\u001b[1;33m,\u001b[0m \u001b[0macc_test_adam\u001b[0m\u001b[1;33m,\u001b[0m \u001b[0mbest_adam\u001b[0m \u001b[1;33m=\u001b[0m \u001b[0mstartTraining\u001b[0m\u001b[1;33m(\u001b[0m\u001b[0mbatch_size\u001b[0m\u001b[1;33m,\u001b[0m\u001b[0mepoch\u001b[0m\u001b[1;33m,\u001b[0m\u001b[0mlearning_rate_value\u001b[0m\u001b[1;33m,\u001b[0m \u001b[1;34m\"SGD\"\u001b[0m\u001b[1;33m,\u001b[0m \u001b[0mweight_decay\u001b[0m\u001b[1;33m,\u001b[0m \u001b[0mclassifier1\u001b[0m\u001b[1;33m)\u001b[0m\u001b[1;33m\u001b[0m\u001b[1;33m\u001b[0m\u001b[0m\n\u001b[0m",
      "\u001b[1;31mNameError\u001b[0m: name 'classifier1' is not defined"
     ]
    }
   ],
   "source": [
    "loss_train_adam, loss_test_adam, acc_train_adam, acc_test_adam, best_adam = startTraining(batch_size,epoch,learning_rate_value, \"SGD\", weight_decay, classifier1)"
   ]
  },
  {
   "cell_type": "code",
   "execution_count": 49,
   "metadata": {},
   "outputs": [
    {
     "data": {
      "text/plain": [
       "[]"
      ]
     },
     "execution_count": 49,
     "metadata": {},
     "output_type": "execute_result"
    },
    {
     "data": {
      "image/png": "[encoded data removed]",
      "text/plain": [
       "<Figure size 720x720 with 1 Axes>"
      ]
     },
     "metadata": {
      "needs_background": "light"
     },
     "output_type": "display_data"
    }
   ],
   "source": [
    "plt.figure(1,figsize=(10,10))\n",
    "\n",
    "plt.plot(loss_train_adam,label=\"train loss\",c=\"red\")\n",
    "plt.plot(loss_test_adam,label=\"test loss\",c=\"blue\")\n",
    "plt.title(\"classifier1\\n\\nloss\")\n",
    "plt.legend()\n",
    "plt.plot()"
   ]
  },
  {
   "cell_type": "code",
   "execution_count": 50,
   "metadata": {},
   "outputs": [
    {
     "data": {
      "text/plain": [
       "[]"
      ]
     },
     "execution_count": 50,
     "metadata": {},
     "output_type": "execute_result"
    },
    {
     "data": {
      "image/png": "[encoded data removed]",
      "text/plain": [
       "<Figure size 720x720 with 1 Axes>"
      ]
     },
     "metadata": {
      "needs_background": "light"
     },
     "output_type": "display_data"
    }
   ],
   "source": [
    "plt.figure(1,figsize=(10,10))\n",
    "\n",
    "plt.plot(acc_train_adam,label=\"train accuracy\",c=\"red\")\n",
    "plt.plot(acc_test_adam,label=\"test accuracy\",c=\"blue\")\n",
    "plt.title(\"classifier1\\n\\naccuracy\")\n",
    "plt.legend()\n",
    "plt.plot()"
   ]
  },
  {
   "cell_type": "code",
   "execution_count": 51,
   "metadata": {},
   "outputs": [],
   "source": [
    "class Conv_Fully_Net(nn.Module):\n",
    "    def __init__(self):\n",
    "        super(Conv_Fully_Net, self).__init__()\n",
    "\n",
    "        self.conv_layers = nn.Sequential(\n",
    "            nn.Conv2d(1, 10, kernel_size=5),\n",
    "            nn.MaxPool2d(2),\n",
    "            nn.ReLU(),\n",
    "            nn.Conv2d(10, 20, kernel_size=5),\n",
    "            nn.Dropout(),\n",
    "            nn.MaxPool2d(2),\n",
    "            nn.ReLU(),\n",
    "        )\n",
    "        self.fc_layers = nn.Sequential(\n",
    "            nn.Linear(320, 50),\n",
    "            nn.ReLU(),\n",
    "            nn.Dropout(),\n",
    "            nn.Linear(50, 10),\n",
    "            nn.Softmax(dim=1)\n",
    "        )\n",
    "\n",
    "    def forward(self, x):\n",
    "        x = self.conv_layers(x)\n",
    "        x = x.view(-1, 320)\n",
    "        x = self.fc_layers(x)\n",
    "        return x"
   ]
  },
  {
   "cell_type": "code",
   "execution_count": 55,
   "metadata": {},
   "outputs": [],
   "source": [
    "clasifier2 = Conv_Fully_Net().to(\"cuda\")"
   ]
  },
  {
   "cell_type": "code",
   "execution_count": 56,
   "metadata": {},
   "outputs": [
    {
     "name": "stdout",
     "output_type": "stream",
     "text": [
      "start training for SGD\n",
      "epoch  0 reached best accuracy  0.954800009727478 %\n",
      "epoch  0\n",
      "train loss 0.4875827972723629 train accuracy:  0.8369999527931213\n",
      "test loss 0.15685474830890694 test accuracy 0.954800009727478\n",
      "epoch  1 reached best accuracy  0.9662666916847229 %\n",
      "epoch  2 reached best accuracy  0.9720333218574524 %\n",
      "epoch  3 reached best accuracy  0.973300039768219 %\n",
      "epoch  5 reached best accuracy  0.977233350276947 %\n",
      "epoch  7 reached best accuracy  0.9785667061805725 %\n",
      "epoch  8 reached best accuracy  0.979116678237915 %\n",
      "epoch  9 reached best accuracy  0.9792333245277405 %\n",
      "epoch  10\n",
      "train loss 0.0001956831033338996 train accuracy:  1.0\n",
      "test loss 0.10862117921401959 test accuracy 0.9791833162307739\n",
      "epoch  12 reached best accuracy  0.9792500138282776 %\n",
      "epoch  13 reached best accuracy  0.9793166518211365 %\n",
      "epoch  20\n",
      "train loss 9.053978767315873e-05 train accuracy:  1.0\n",
      "test loss 0.11713311173963285 test accuracy 0.979283332824707\n",
      "epoch  24 reached best accuracy  0.9793500304222107 %\n",
      "epoch  26 reached best accuracy  0.9793833494186401 %\n",
      "epoch  30\n",
      "train loss 6.612870233483305e-05 train accuracy:  1.0\n",
      "test loss 0.1207166445221927 test accuracy 0.9793333411216736\n",
      "epoch  34 reached best accuracy  0.9794000387191772 %\n",
      "epoch  40\n",
      "train loss 5.5532347296536354e-05 train accuracy:  1.0\n",
      "test loss 0.12284611177186462 test accuracy 0.9793833494186401\n",
      "epoch  50\n",
      "train loss 5.013980223769107e-05 train accuracy:  1.0\n",
      "test loss 0.12417337665313835 test accuracy 0.9793833494186401\n",
      "epoch  60\n",
      "train loss 4.67699238841757e-05 train accuracy:  1.0\n",
      "test loss 0.1250217925746308 test accuracy 0.979366660118103\n",
      "epoch  70\n",
      "train loss 4.460103127984913e-05 train accuracy:  1.0\n",
      "test loss 0.12558763147868252 test accuracy 0.9794000387191772\n",
      "epoch  80\n",
      "train loss 4.326995373381665e-05 train accuracy:  1.0\n",
      "test loss 0.12596663413279663 test accuracy 0.9793833494186401\n",
      "epoch  90\n",
      "train loss 4.2367959632260614e-05 train accuracy:  1.0\n",
      "test loss 0.12622402276593472 test accuracy 0.979366660118103\n",
      "execution time ======= 1755.0720279216766\n"
     ]
    }
   ],
   "source": [
    "loss_train_2, loss_test_2, acc_train_2, acc_test_2, best_2 = startTraining(batch_size,epoch,learning_rate_value, \"SGD\", weight_decay, classifier1)"
   ]
  },
  {
   "cell_type": "code",
   "execution_count": null,
   "metadata": {},
   "outputs": [],
   "source": []
  },
  {
   "cell_type": "markdown",
   "metadata": {},
   "source": [
    "# Outputs"
   ]
  },
  {
   "cell_type": "markdown",
   "metadata": {},
   "source": [
    "# 1. Plot the training and testing losses over epochs [2pt]"
   ]
  },
  {
   "cell_type": "code",
   "execution_count": 173,
   "metadata": {},
   "outputs": [
    {
     "data": {
      "text/plain": [
       "[]"
      ]
     },
     "execution_count": 173,
     "metadata": {},
     "output_type": "execute_result"
    },
    {
     "data": {
      "image/png": "[encoded data removed]",
      "text/plain": [
       "<Figure size 720x720 with 1 Axes>"
      ]
     },
     "metadata": {
      "needs_background": "light"
     },
     "output_type": "display_data"
    }
   ],
   "source": [
    "plt.figure(1,figsize=(10,10))\n",
    "\n",
    "plt.plot(loss_train_sgd2,label=\"train loss\",c=\"red\")\n",
    "plt.plot(loss_test_sgd2,label=\"test loss\",c=\"blue\")\n",
    "plt.title(\"Loss\")\n",
    "plt.legend()\n",
    "plt.plot()"
   ]
  },
  {
   "cell_type": "markdown",
   "metadata": {},
   "source": [
    "# 2. Plot the training and testing accuracies over epochs [2pt]"
   ]
  },
  {
   "cell_type": "code",
   "execution_count": 175,
   "metadata": {},
   "outputs": [
    {
     "data": {
      "text/plain": [
       "[]"
      ]
     },
     "execution_count": 175,
     "metadata": {},
     "output_type": "execute_result"
    },
    {
     "data": {
      "image/png": "[encoded data removed]",
      "text/plain": [
       "<Figure size 720x720 with 1 Axes>"
      ]
     },
     "metadata": {
      "needs_background": "light"
     },
     "output_type": "display_data"
    }
   ],
   "source": [
    "plt.figure(1,figsize=(10,10))\n",
    "\n",
    "plt.plot(acc_train_sgd2,label=\"train accuracy\",c=\"red\")\n",
    "plt.plot(acc_test_sgd2,label=\"test accuracy\",c=\"blue\")\n",
    "plt.title(\"Accuracy\")\n",
    "plt.legend(loc=4)\n",
    "plt.plot()"
   ]
  },
  {
   "cell_type": "markdown",
   "metadata": {},
   "source": [
    "# 3. Print the final training and testing losses at convergence [2pt]"
   ]
  },
  {
   "cell_type": "code",
   "execution_count": 171,
   "metadata": {},
   "outputs": [
    {
     "name": "stdout",
     "output_type": "stream",
     "text": [
      "training loss   0.008669205423893945\n",
      "testing loss    0.1909789605850897\n"
     ]
    }
   ],
   "source": [
    "print(\"training loss  \",loss_train_sgd2[49])\n",
    "print(\"testing loss   \",loss_test_sgd2[49])"
   ]
  },
  {
   "cell_type": "markdown",
   "metadata": {},
   "source": [
    "# 4. Print the final training and testing accuracies at convergence [20pt]"
   ]
  },
  {
   "cell_type": "code",
   "execution_count": 176,
   "metadata": {},
   "outputs": [
    {
     "name": "stdout",
     "output_type": "stream",
     "text": [
      "training accuracy   0.9972999691963196\n",
      "testing accuracy    0.9643000364303589\n"
     ]
    }
   ],
   "source": [
    "print(\"training accuracy  \",acc_train_sgd2[49])\n",
    "print(\"testing accuracy   \",acc_test_sgd2[49])"
   ]
  },
  {
   "cell_type": "code",
   "execution_count": null,
   "metadata": {},
   "outputs": [],
   "source": []
  }
 ],
 "metadata": {
  "kernelspec": {
   "display_name": "Python 3",
   "language": "python",
   "name": "python3"
  },
  "language_info": {
   "codemirror_mode": {
    "name": "ipython",
    "version": 3
   },
   "file_extension": ".py",
   "mimetype": "text/x-python",
   "name": "python",
   "nbconvert_exporter": "python",
   "pygments_lexer": "ipython3",
   "version": "3.8.3"
  }
 },
 "nbformat": 4,
 "nbformat_minor": 4
}
