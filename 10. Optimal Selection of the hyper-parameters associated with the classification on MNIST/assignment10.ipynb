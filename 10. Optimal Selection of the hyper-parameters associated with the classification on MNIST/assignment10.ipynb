{
 "cells": [
  {
   "cell_type": "code",
   "execution_count": 1,
   "metadata": {},
   "outputs": [],
   "source": [
    "import torch\n",
    "from torch import nn\n",
    "from torchvision import datasets, transforms\n",
    "import torch.nn.functional as F\n",
    "import numpy as np\n",
    "import matplotlib.pyplot as plt"
   ]
  },
  {
   "cell_type": "markdown",
   "metadata": {},
   "source": [
    "## Normalize data with testing data\n",
    "##### use default normalizing condition which is mean, std of mnist training dataset which we use as testing data"
   ]
  },
  {
   "cell_type": "code",
   "execution_count": 4,
   "metadata": {},
   "outputs": [],
   "source": [
    "transform = transforms.Compose([\n",
    "    transforms.ToTensor(),\n",
    "    transforms.Normalize((0.1307,),(0.3081,)),  # mean value = 0.1307, standard deviation value = 0.3081\n",
    "])\n"
   ]
  },
  {
   "cell_type": "markdown",
   "metadata": {},
   "source": [
    "## Use Mnist train as test and vice versa"
   ]
  },
  {
   "cell_type": "code",
   "execution_count": 5,
   "metadata": {},
   "outputs": [],
   "source": [
    "data_path = './MNIST'\n",
    "\n",
    "data_test   = datasets.MNIST(root = data_path, train= True, download=True, transform= transform)\n",
    "data_train  = datasets.MNIST(root = data_path, train= False, download=True, transform= transform)\n"
   ]
  },
  {
   "cell_type": "code",
   "execution_count": 6,
   "metadata": {},
   "outputs": [
    {
     "name": "stdout",
     "output_type": "stream",
     "text": [
      "the number of your training data (must be 10,000) =  10000\n",
      "hte number of your testing data (must be 60,000) =  60000\n"
     ]
    }
   ],
   "source": [
    "print(\"the number of your training data (must be 10,000) = \", data_train.__len__())\n",
    "print(\"hte number of your testing data (must be 60,000) = \", data_test.__len__())\n"
   ]
  },
  {
   "cell_type": "markdown",
   "metadata": {},
   "source": [
    "## Optimization\n",
    "#### use any stochastic gradient descent algorithm for the optimization\n",
    "#### use any size of the mini-batch\n",
    "#### use any optimization algorithm (for example, Momentum, AdaGrad, RMSProp, Adam)\n",
    "#### use any regularization algorithm (for example, Dropout, Weight Decay)\n",
    "#### use any annealing scheme for the learning rate (for example, constant, decay, staircase)"
   ]
  },
  {
   "cell_type": "markdown",
   "metadata": {},
   "source": [
    "## Desigining Model\n",
    "##### design a neural network architecture with three layers (input layer, one hidden layer and output layer)\n",
    "##### the input dimension of the input layer should be 784 (28 * 28)\n",
    "##### the output dimension of the output layer should be 10 (class of digits)\n",
    "##### all the layers should be fully connected layers\n",
    "\n",
    "##### use any type of activation functions"
   ]
  },
  {
   "cell_type": "code",
   "execution_count": 71,
   "metadata": {},
   "outputs": [],
   "source": [
    "layer_2 = 14*14\n",
    "layer_3 = 7*7\n",
    "\n",
    "class classification(nn.Module):\n",
    "    def __init__(self):\n",
    "        super(classification, self).__init__()\n",
    "        \n",
    "        # construct layers for a neural network\n",
    "        self.classifier1 = nn.Sequential(\n",
    "            nn.Linear(in_features=28*28, out_features=layer_2),\n",
    "            nn.Softmax(),\n",
    "        ) \n",
    "        self.classifier2 = nn.Sequential(\n",
    "            nn.Linear(in_features=layer_2, out_features=layer_3),\n",
    "            nn.Softmax(),\n",
    "        ) \n",
    "        self.classifier3 = nn.Sequential(\n",
    "            nn.Linear(in_features=layer_3, out_features=10),\n",
    "        ) \n",
    "        \n",
    "        \n",
    "    def forward(self, inputs):                 \n",
    "        x = inputs.view(inputs.size(0), -1)    \n",
    "        \n",
    "        x = self.classifier1(x)               \n",
    "        x = F.dropout(x, p = 0.3, training=self.training) # use dropout when training\n",
    "        \n",
    "        x = self.classifier2(x)\n",
    "        x = F.dropout(x, p = 0.3, training=self.training)\n",
    "       \n",
    "        out = self.classifier3(x)              \n",
    "        \n",
    "        return out\n"
   ]
  },
  {
   "cell_type": "markdown",
   "metadata": {},
   "source": [
    "# Define a function that can change optimizer\n"
   ]
  },
  {
   "cell_type": "code",
   "execution_count": 93,
   "metadata": {},
   "outputs": [],
   "source": [
    "import time\n",
    "\n",
    "def startTraining(batch_size,epoch,learning_rate_value, optimizer_string, weight_decay, momentum=0.9):\n",
    "    #start training \n",
    "    start_time = time.time()\n",
    "    print(\"start training for\", optimizer_string)\n",
    "    device = \"cuda\"\n",
    "    \n",
    "    classifier = classification().to(\"cuda\")\n",
    "    optimizer = torch.optim.SGD(classifier.parameters(), lr=learning_rate_value, weight_decay= weight_decay)\n",
    "    if optimizer_string == \"Adam\":\n",
    "        optimizer = torch.optim.Adam(classifier.parameters(), lr=learning_rate_value, weight_decay = weight_decay)\n",
    "    if optimizer_string == \"RMSprop\":\n",
    "        optimizer = torch.optim.RMSprop(classifier.parameters(), lr=learning_rate_value, weight_decay = weight_decay, momentum = momentum)\n",
    "    if optimizer_string == \"Adagrad\":\n",
    "        optimizer = torch.optim.Adagrad(classifier.parameters(), lr=learning_rate_value, weight_decay = weight_decay)\n",
    "    criterion = nn.CrossEntropyLoss();\n",
    "    #define array to save values\n",
    "    \n",
    "    loss_train_arr=np.zeros(epoch)\n",
    "    accuracy_train_arr=np.zeros(epoch)\n",
    "    loss_test_arr=np.zeros(epoch)\n",
    "    accuracy_test_arr=np.zeros(epoch)\n",
    "\n",
    "    batched_train = torch.utils.data.DataLoader(data_train, batch_size, shuffle=True)\n",
    "    batched_test = torch.utils.data.DataLoader(data_test, batch_size, shuffle=True)\n",
    "    \n",
    "    best_accuracy = 0.9\n",
    "    best_epoch = 0;\n",
    "    \n",
    "    for i in range(epoch):\n",
    "        \n",
    "        loss_train=0\n",
    "        accuracy_train=0\n",
    "        loss_test=0\n",
    "        accuracy_test=0\n",
    "        \n",
    "        \n",
    "        classifier.train()\n",
    "        #train and compute loss, accuracy\n",
    "        for img, label in batched_train:\n",
    "            img=img.to(device)\n",
    "            label=label.to(device)\n",
    "            optimizer.zero_grad()\n",
    "            predicted = classifier(img)\n",
    "\n",
    "            label_predicted = torch.argmax(predicted,dim=1)\n",
    "            loss = criterion(predicted, label)\n",
    "            loss.backward()\n",
    "            optimizer.step()\n",
    "\n",
    "            loss_train += loss.item()\n",
    "            accuracy_train += torch.sum(label_predicted==label)\n",
    "\n",
    "\n",
    "        loss_train_arr[i]=loss_train/(len(batched_train)) \n",
    "        accuracy_train_arr[i]=accuracy_train/len(batched_train.dataset)\n",
    "        \n",
    "        classifier.eval()\n",
    "        #test, no need to backward, step\n",
    "        for img, label in batched_test:\n",
    "            img=img.to(device)\n",
    "            label=label.to(device)\n",
    "            \n",
    "            with torch.autograd.no_grad():\n",
    "                predicted = classifier(img)\n",
    "                label_predicted = torch.argmax(predicted,dim=1)\n",
    "                loss = criterion(predicted, label)\n",
    "\n",
    "                loss_test += loss.item()\n",
    "                accuracy_test += torch.sum(label_predicted==label)\n",
    "\n",
    "        loss_test_arr[i]=loss_test/(len(batched_test))\n",
    "        accuracy_test_arr[i]=accuracy_test/len(batched_test.dataset)\n",
    "        \n",
    "        if accuracy_test_arr[i] > best_accuracy:\n",
    "            best_accuracy = accuracy_test_arr[i]\n",
    "            best_epoch = i\n",
    "            print(\"epoch \", i, \"reached best accuracy \", best_accuracy, '%');\n",
    "        \n",
    "\n",
    "        if i%10==0:\n",
    "            print(\"epoch \",i)\n",
    "            print(\"train loss\", loss_train_arr[i],\"train accuracy: \",accuracy_train_arr[i])\n",
    "            print(\"test loss\", loss_test_arr[i],\"test accuracy\", accuracy_test_arr[i])\n",
    "    print(\"execution time =======\", time.time()-start_time)\n",
    "    \n",
    "    \n",
    "    return loss_train_arr, loss_test_arr, accuracy_train_arr, accuracy_test_arr, best_epoch\n"
   ]
  },
  {
   "cell_type": "markdown",
   "metadata": {},
   "source": [
    "## Loss function - cross entropy"
   ]
  },
  {
   "cell_type": "code",
   "execution_count": 9,
   "metadata": {},
   "outputs": [],
   "source": [
    "criterion = nn.CrossEntropyLoss()"
   ]
  },
  {
   "cell_type": "markdown",
   "metadata": {},
   "source": [
    "## Start Training for different optimizer"
   ]
  },
  {
   "cell_type": "code",
   "execution_count": 10,
   "metadata": {},
   "outputs": [],
   "source": [
    "batch_size = 32\n",
    "epoch = 100\n",
    "learning_rate_value = 0.1\n",
    "weight_decay = 0"
   ]
  },
  {
   "cell_type": "code",
   "execution_count": 13,
   "metadata": {
    "scrolled": true
   },
   "outputs": [
    {
     "name": "stdout",
     "output_type": "stream",
     "text": [
      "start training for SGD\n",
      "epoch  0\n",
      "train loss 0.5227972334042524 train accuracy:  0.8413999676704407\n",
      "test loss 0.30220477665861445 test accuracy 0.9067167043685913\n",
      "epoch  10\n",
      "train loss 0.009959486652100656 train accuracy:  0.9970999956130981\n",
      "test loss 0.1755015723010525 test accuracy 0.9583333730697632\n",
      "epoch  20\n",
      "train loss 0.0019809445536655623 train accuracy:  0.9996999502182007\n",
      "test loss 0.18935096180269176 test accuracy 0.9604166746139526\n",
      "epoch  30\n",
      "train loss 0.0020618596408400543 train accuracy:  0.9993000030517578\n",
      "test loss 0.20301395132653804 test accuracy 0.9599166512489319\n",
      "epoch  40\n",
      "train loss 0.0009355999288328194 train accuracy:  0.9998999834060669\n",
      "test loss 0.2134935742846068 test accuracy 0.9600000381469727\n",
      "epoch  50\n",
      "train loss 0.0006790940577239656 train accuracy:  0.9998999834060669\n",
      "test loss 0.21817123196443694 test accuracy 0.9594166874885559\n",
      "epoch  60\n",
      "train loss 0.0005891109099589091 train accuracy:  0.9997999668121338\n",
      "test loss 0.2189617635138533 test accuracy 0.960016667842865\n",
      "epoch  70\n",
      "train loss 0.0006641240392178143 train accuracy:  1.0\n",
      "test loss 0.21644693882694993 test accuracy 0.961733341217041\n",
      "epoch  80\n",
      "train loss 0.0004257591147502542 train accuracy:  0.9998999834060669\n",
      "test loss 0.22227624964147386 test accuracy 0.9614333510398865\n",
      "epoch  90\n",
      "train loss 0.00013793000373418194 train accuracy:  1.0\n",
      "test loss 0.22666262717924682 test accuracy 0.961983323097229\n",
      "execution time ======= 1416.0314650535583\n"
     ]
    }
   ],
   "source": [
    "loss_train_adam, loss_test_adam, acc_train_adam, acc_test_adam, best_adam = startTraining(batch_size,epoch,learning_rate_value, \"SGD\", weight_decay)"
   ]
  },
  {
   "cell_type": "code",
   "execution_count": 16,
   "metadata": {},
   "outputs": [
    {
     "data": {
      "text/plain": [
       "[]"
      ]
     },
     "execution_count": 16,
     "metadata": {},
     "output_type": "execute_result"
    },
    {
     "data": {
      "image/png": "[encoded data removed]",
      "text/plain": [
       "<Figure size 720x720 with 1 Axes>"
      ]
     },
     "metadata": {
      "needs_background": "light"
     },
     "output_type": "display_data"
    }
   ],
   "source": [
    "plt.figure(1,figsize=(10,10))\n",
    "\n",
    "plt.plot(loss_train_adam,label=\"train loss\",c=\"red\")\n",
    "plt.plot(loss_test_adam,label=\"test loss\",c=\"blue\")\n",
    "plt.title(\"SGD\\n\\nloss\")\n",
    "plt.legend()\n",
    "plt.plot()"
   ]
  },
  {
   "cell_type": "code",
   "execution_count": 17,
   "metadata": {},
   "outputs": [
    {
     "data": {
      "text/plain": [
       "[]"
      ]
     },
     "execution_count": 17,
     "metadata": {},
     "output_type": "execute_result"
    },
    {
     "data": {
      "image/png": "[encoded data removed]",
      "text/plain": [
       "<Figure size 720x720 with 1 Axes>"
      ]
     },
     "metadata": {
      "needs_background": "light"
     },
     "output_type": "display_data"
    }
   ],
   "source": [
    "plt.figure(1,figsize=(10,10))\n",
    "\n",
    "plt.plot(acc_train_adam,label=\"train accuracy\",c=\"red\")\n",
    "plt.plot(acc_test_adam,label=\"test accuracy\",c=\"blue\")\n",
    "plt.title(\"SGD\\n\\naccuracy\")\n",
    "plt.legend()\n",
    "plt.plot()"
   ]
  },
  {
   "cell_type": "code",
   "execution_count": 32,
   "metadata": {},
   "outputs": [],
   "source": [
    "batch_size = 32\n",
    "epoch = 100\n",
    "learning_rate_value = 0.5\n",
    "weight_decay = 0"
   ]
  },
  {
   "cell_type": "code",
   "execution_count": 33,
   "metadata": {},
   "outputs": [
    {
     "name": "stdout",
     "output_type": "stream",
     "text": [
      "start training for RMSprop\n",
      "epoch  0\n",
      "train loss 92376156.1056458 train accuracy:  0.6783999800682068\n",
      "test loss 9443275.5822 test accuracy 0.8043500185012817\n",
      "epoch  10\n",
      "train loss 21861007.067092653 train accuracy:  0.877299964427948\n",
      "test loss 30699984.658383332 test accuracy 0.8632833361625671\n",
      "epoch  20\n",
      "train loss 31450354.51158147 train accuracy:  0.9096999764442444\n",
      "test loss 114901798.65901667 test accuracy 0.8978166580200195\n",
      "epoch  30\n",
      "train loss 35556306.5399361 train accuracy:  0.9340999722480774\n",
      "test loss 185265126.16 test accuracy 0.8977333307266235\n",
      "epoch  40\n",
      "train loss 54617730.86261981 train accuracy:  0.9418999552726746\n",
      "test loss 277151490.82133335 test accuracy 0.9208833575248718\n",
      "epoch  50\n",
      "train loss 51898104.96485623 train accuracy:  0.9578999876976013\n",
      "test loss 414200889.6192 test accuracy 0.9238666892051697\n",
      "epoch  60\n",
      "train loss 60735414.03194888 train accuracy:  0.9634999632835388\n",
      "test loss 710692075.0997334 test accuracy 0.9270166754722595\n",
      "epoch  70\n",
      "train loss 70623930.7859425 train accuracy:  0.9662999510765076\n",
      "test loss 1335920581.4314666 test accuracy 0.9341833591461182\n",
      "epoch  80\n",
      "train loss 64338868.958466455 train accuracy:  0.9739999771118164\n",
      "test loss 1187374462.6773334 test accuracy 0.9424333572387695\n",
      "epoch  90\n",
      "train loss 55940221.08626198 train accuracy:  0.9761999845504761\n",
      "test loss 1906712836.1002667 test accuracy 0.9257500171661377\n",
      "execution time ======= 1519.6919989585876\n"
     ]
    }
   ],
   "source": [
    "loss_train_rms, loss_test_rms, acc_train_rms, acc_test_rms, best_rms = startTraining(batch_size,epoch,learning_rate_value, \"RMSprop\", weight_decay)"
   ]
  },
  {
   "cell_type": "code",
   "execution_count": 34,
   "metadata": {
    "scrolled": true
   },
   "outputs": [
    {
     "data": {
      "text/plain": [
       "[]"
      ]
     },
     "execution_count": 34,
     "metadata": {},
     "output_type": "execute_result"
    },
    {
     "data": {
      "image/png": "[encoded data removed]",
      "text/plain": [
       "<Figure size 720x720 with 1 Axes>"
      ]
     },
     "metadata": {
      "needs_background": "light"
     },
     "output_type": "display_data"
    }
   ],
   "source": [
    "plt.figure(1,figsize=(10,10))\n",
    "\n",
    "plt.plot(loss_train_rms,label=\"train loss\",c=\"red\")\n",
    "plt.plot(loss_test_rms,label=\"test loss\",c=\"blue\")\n",
    "plt.title(\"Rms\\n\\nloss\")\n",
    "plt.legend()\n",
    "plt.plot()"
   ]
  },
  {
   "cell_type": "code",
   "execution_count": 38,
   "metadata": {},
   "outputs": [
    {
     "data": {
      "text/plain": [
       "[]"
      ]
     },
     "execution_count": 38,
     "metadata": {},
     "output_type": "execute_result"
    },
    {
     "data": {
      "image/png": "[encoded data removed]",
      "text/plain": [
       "<Figure size 720x720 with 1 Axes>"
      ]
     },
     "metadata": {
      "needs_background": "light"
     },
     "output_type": "display_data"
    }
   ],
   "source": [
    "plt.figure(1,figsize=(10,10))\n",
    "\n",
    "plt.plot(acc_train_rms,label=\"train accuracy\",c=\"red\")\n",
    "plt.plot(acc_test_rms,label=\"test accuracy\",c=\"blue\")\n",
    "plt.title(\"Rms\\n\\naccuracy\")\n",
    "plt.legend()\n",
    "plt.plot()"
   ]
  },
  {
   "cell_type": "code",
   "execution_count": 36,
   "metadata": {},
   "outputs": [
    {
     "name": "stdout",
     "output_type": "stream",
     "text": [
      "0.8043500185012817\n"
     ]
    }
   ],
   "source": [
    "print(acc_test_rms[best_rms])"
   ]
  },
  {
   "cell_type": "markdown",
   "metadata": {},
   "source": [
    "## Overfits => decrease number of neuron in layer, increase dropout rate"
   ]
  },
  {
   "cell_type": "code",
   "execution_count": 158,
   "metadata": {},
   "outputs": [],
   "source": [
    "layer_2 = 14*14\n",
    "layer_3 = 10*10\n",
    "\n",
    "class classification(nn.Module):\n",
    "    def __init__(self):\n",
    "        super(classification, self).__init__()\n",
    "        \n",
    "        # construct layers for a neural network\n",
    "        self.classifier1 = nn.Sequential(\n",
    "            nn.Linear(in_features=28*28, out_features=layer_2),\n",
    "            nn.ReLU(),\n",
    "        ) \n",
    "        self.classifier2 = nn.Sequential(\n",
    "            nn.Linear(in_features=layer_2, out_features=layer_3),\n",
    "            nn.ReLU(),\n",
    "        ) \n",
    "        self.classifier3 = nn.Sequential(\n",
    "            nn.Linear(in_features=layer_3, out_features=10),\n",
    "        ) \n",
    "        \n",
    "        \n",
    "    def forward(self, inputs):                 \n",
    "        x = inputs.view(inputs.size(0), -1)    \n",
    "        \n",
    "        x = self.classifier1(x)               \n",
    "        x = F.dropout(x, p = 0.3, training=self.training) # use dropout when training\n",
    "        \n",
    "        x = self.classifier2(x)\n",
    "        x = F.dropout(x, p = 0.2, training=self.training)\n",
    "       \n",
    "        out = self.classifier3(x)              \n",
    "        \n",
    "        return out\n"
   ]
  },
  {
   "cell_type": "code",
   "execution_count": 159,
   "metadata": {},
   "outputs": [],
   "source": [
    "batch_size = 128\n",
    "epoch = 50\n",
    "learning_rate_value = 0.5\n",
    "weight_decay = 0"
   ]
  },
  {
   "cell_type": "code",
   "execution_count": 156,
   "metadata": {},
   "outputs": [
    {
     "name": "stdout",
     "output_type": "stream",
     "text": [
      "start training for Adagrad\n",
      "epoch  0\n",
      "train loss 2071.464148255843 train accuracy:  0.3928999900817871\n",
      "test loss 10.927023573724954 test accuracy 0.4161333441734314\n"
     ]
    },
    {
     "ename": "KeyboardInterrupt",
     "evalue": "",
     "output_type": "error",
     "traceback": [
      "\u001b[1;31m---------------------------------------------------------------------------\u001b[0m",
      "\u001b[1;31mKeyboardInterrupt\u001b[0m                         Traceback (most recent call last)",
      "\u001b[1;32m<ipython-input-156-05d8780a495d>\u001b[0m in \u001b[0;36m<module>\u001b[1;34m\u001b[0m\n\u001b[1;32m----> 1\u001b[1;33m \u001b[0mloss_train_sgd\u001b[0m\u001b[1;33m,\u001b[0m \u001b[0mloss_test_sgd\u001b[0m\u001b[1;33m,\u001b[0m \u001b[0macc_train_sgd\u001b[0m\u001b[1;33m,\u001b[0m \u001b[0macc_test_sgd\u001b[0m\u001b[1;33m,\u001b[0m \u001b[0mbest_sgd\u001b[0m \u001b[1;33m=\u001b[0m \u001b[0mstartTraining\u001b[0m\u001b[1;33m(\u001b[0m\u001b[0mbatch_size\u001b[0m\u001b[1;33m,\u001b[0m\u001b[0mepoch\u001b[0m\u001b[1;33m,\u001b[0m\u001b[0mlearning_rate_value\u001b[0m\u001b[1;33m,\u001b[0m \u001b[1;34m\"Adagrad\"\u001b[0m\u001b[1;33m,\u001b[0m \u001b[0mweight_decay\u001b[0m\u001b[1;33m)\u001b[0m\u001b[1;33m\u001b[0m\u001b[1;33m\u001b[0m\u001b[0m\n\u001b[0m\u001b[0;32m      2\u001b[0m \u001b[1;33m\u001b[0m\u001b[0m\n\u001b[0;32m      3\u001b[0m \u001b[0mprint\u001b[0m\u001b[1;33m(\u001b[0m\u001b[0mbest_sgd\u001b[0m\u001b[1;33m)\u001b[0m\u001b[1;33m\u001b[0m\u001b[1;33m\u001b[0m\u001b[0m\n",
      "\u001b[1;32m<ipython-input-93-d230ada691b2>\u001b[0m in \u001b[0;36mstartTraining\u001b[1;34m(batch_size, epoch, learning_rate_value, optimizer_string, weight_decay, momentum)\u001b[0m\n\u001b[0;32m     59\u001b[0m         \u001b[0mclassifier\u001b[0m\u001b[1;33m.\u001b[0m\u001b[0meval\u001b[0m\u001b[1;33m(\u001b[0m\u001b[1;33m)\u001b[0m\u001b[1;33m\u001b[0m\u001b[1;33m\u001b[0m\u001b[0m\n\u001b[0;32m     60\u001b[0m         \u001b[1;31m#test, no need to backward, step\u001b[0m\u001b[1;33m\u001b[0m\u001b[1;33m\u001b[0m\u001b[1;33m\u001b[0m\u001b[0m\n\u001b[1;32m---> 61\u001b[1;33m         \u001b[1;32mfor\u001b[0m \u001b[0mimg\u001b[0m\u001b[1;33m,\u001b[0m \u001b[0mlabel\u001b[0m \u001b[1;32min\u001b[0m \u001b[0mbatched_test\u001b[0m\u001b[1;33m:\u001b[0m\u001b[1;33m\u001b[0m\u001b[1;33m\u001b[0m\u001b[0m\n\u001b[0m\u001b[0;32m     62\u001b[0m             \u001b[0mimg\u001b[0m\u001b[1;33m=\u001b[0m\u001b[0mimg\u001b[0m\u001b[1;33m.\u001b[0m\u001b[0mto\u001b[0m\u001b[1;33m(\u001b[0m\u001b[0mdevice\u001b[0m\u001b[1;33m)\u001b[0m\u001b[1;33m\u001b[0m\u001b[1;33m\u001b[0m\u001b[0m\n\u001b[0;32m     63\u001b[0m             \u001b[0mlabel\u001b[0m\u001b[1;33m=\u001b[0m\u001b[0mlabel\u001b[0m\u001b[1;33m.\u001b[0m\u001b[0mto\u001b[0m\u001b[1;33m(\u001b[0m\u001b[0mdevice\u001b[0m\u001b[1;33m)\u001b[0m\u001b[1;33m\u001b[0m\u001b[1;33m\u001b[0m\u001b[0m\n",
      "\u001b[1;32mC:\\ProgramData\\Anaconda3\\lib\\site-packages\\torch\\utils\\data\\dataloader.py\u001b[0m in \u001b[0;36m__next__\u001b[1;34m(self)\u001b[0m\n\u001b[0;32m    433\u001b[0m         \u001b[1;32mif\u001b[0m \u001b[0mself\u001b[0m\u001b[1;33m.\u001b[0m\u001b[0m_sampler_iter\u001b[0m \u001b[1;32mis\u001b[0m \u001b[1;32mNone\u001b[0m\u001b[1;33m:\u001b[0m\u001b[1;33m\u001b[0m\u001b[1;33m\u001b[0m\u001b[0m\n\u001b[0;32m    434\u001b[0m             \u001b[0mself\u001b[0m\u001b[1;33m.\u001b[0m\u001b[0m_reset\u001b[0m\u001b[1;33m(\u001b[0m\u001b[1;33m)\u001b[0m\u001b[1;33m\u001b[0m\u001b[1;33m\u001b[0m\u001b[0m\n\u001b[1;32m--> 435\u001b[1;33m         \u001b[0mdata\u001b[0m \u001b[1;33m=\u001b[0m \u001b[0mself\u001b[0m\u001b[1;33m.\u001b[0m\u001b[0m_next_data\u001b[0m\u001b[1;33m(\u001b[0m\u001b[1;33m)\u001b[0m\u001b[1;33m\u001b[0m\u001b[1;33m\u001b[0m\u001b[0m\n\u001b[0m\u001b[0;32m    436\u001b[0m         \u001b[0mself\u001b[0m\u001b[1;33m.\u001b[0m\u001b[0m_num_yielded\u001b[0m \u001b[1;33m+=\u001b[0m \u001b[1;36m1\u001b[0m\u001b[1;33m\u001b[0m\u001b[1;33m\u001b[0m\u001b[0m\n\u001b[0;32m    437\u001b[0m         \u001b[1;32mif\u001b[0m \u001b[0mself\u001b[0m\u001b[1;33m.\u001b[0m\u001b[0m_dataset_kind\u001b[0m \u001b[1;33m==\u001b[0m \u001b[0m_DatasetKind\u001b[0m\u001b[1;33m.\u001b[0m\u001b[0mIterable\u001b[0m \u001b[1;32mand\u001b[0m\u001b[0;31m \u001b[0m\u001b[0;31m\\\u001b[0m\u001b[1;33m\u001b[0m\u001b[1;33m\u001b[0m\u001b[0m\n",
      "\u001b[1;32mC:\\ProgramData\\Anaconda3\\lib\\site-packages\\torch\\utils\\data\\dataloader.py\u001b[0m in \u001b[0;36m_next_data\u001b[1;34m(self)\u001b[0m\n\u001b[0;32m    473\u001b[0m     \u001b[1;32mdef\u001b[0m \u001b[0m_next_data\u001b[0m\u001b[1;33m(\u001b[0m\u001b[0mself\u001b[0m\u001b[1;33m)\u001b[0m\u001b[1;33m:\u001b[0m\u001b[1;33m\u001b[0m\u001b[1;33m\u001b[0m\u001b[0m\n\u001b[0;32m    474\u001b[0m         \u001b[0mindex\u001b[0m \u001b[1;33m=\u001b[0m \u001b[0mself\u001b[0m\u001b[1;33m.\u001b[0m\u001b[0m_next_index\u001b[0m\u001b[1;33m(\u001b[0m\u001b[1;33m)\u001b[0m  \u001b[1;31m# may raise StopIteration\u001b[0m\u001b[1;33m\u001b[0m\u001b[1;33m\u001b[0m\u001b[0m\n\u001b[1;32m--> 475\u001b[1;33m         \u001b[0mdata\u001b[0m \u001b[1;33m=\u001b[0m \u001b[0mself\u001b[0m\u001b[1;33m.\u001b[0m\u001b[0m_dataset_fetcher\u001b[0m\u001b[1;33m.\u001b[0m\u001b[0mfetch\u001b[0m\u001b[1;33m(\u001b[0m\u001b[0mindex\u001b[0m\u001b[1;33m)\u001b[0m  \u001b[1;31m# may raise StopIteration\u001b[0m\u001b[1;33m\u001b[0m\u001b[1;33m\u001b[0m\u001b[0m\n\u001b[0m\u001b[0;32m    476\u001b[0m         \u001b[1;32mif\u001b[0m \u001b[0mself\u001b[0m\u001b[1;33m.\u001b[0m\u001b[0m_pin_memory\u001b[0m\u001b[1;33m:\u001b[0m\u001b[1;33m\u001b[0m\u001b[1;33m\u001b[0m\u001b[0m\n\u001b[0;32m    477\u001b[0m             \u001b[0mdata\u001b[0m \u001b[1;33m=\u001b[0m \u001b[0m_utils\u001b[0m\u001b[1;33m.\u001b[0m\u001b[0mpin_memory\u001b[0m\u001b[1;33m.\u001b[0m\u001b[0mpin_memory\u001b[0m\u001b[1;33m(\u001b[0m\u001b[0mdata\u001b[0m\u001b[1;33m)\u001b[0m\u001b[1;33m\u001b[0m\u001b[1;33m\u001b[0m\u001b[0m\n",
      "\u001b[1;32mC:\\ProgramData\\Anaconda3\\lib\\site-packages\\torch\\utils\\data\\_utils\\fetch.py\u001b[0m in \u001b[0;36mfetch\u001b[1;34m(self, possibly_batched_index)\u001b[0m\n\u001b[0;32m     42\u001b[0m     \u001b[1;32mdef\u001b[0m \u001b[0mfetch\u001b[0m\u001b[1;33m(\u001b[0m\u001b[0mself\u001b[0m\u001b[1;33m,\u001b[0m \u001b[0mpossibly_batched_index\u001b[0m\u001b[1;33m)\u001b[0m\u001b[1;33m:\u001b[0m\u001b[1;33m\u001b[0m\u001b[1;33m\u001b[0m\u001b[0m\n\u001b[0;32m     43\u001b[0m         \u001b[1;32mif\u001b[0m \u001b[0mself\u001b[0m\u001b[1;33m.\u001b[0m\u001b[0mauto_collation\u001b[0m\u001b[1;33m:\u001b[0m\u001b[1;33m\u001b[0m\u001b[1;33m\u001b[0m\u001b[0m\n\u001b[1;32m---> 44\u001b[1;33m             \u001b[0mdata\u001b[0m \u001b[1;33m=\u001b[0m \u001b[1;33m[\u001b[0m\u001b[0mself\u001b[0m\u001b[1;33m.\u001b[0m\u001b[0mdataset\u001b[0m\u001b[1;33m[\u001b[0m\u001b[0midx\u001b[0m\u001b[1;33m]\u001b[0m \u001b[1;32mfor\u001b[0m \u001b[0midx\u001b[0m \u001b[1;32min\u001b[0m \u001b[0mpossibly_batched_index\u001b[0m\u001b[1;33m]\u001b[0m\u001b[1;33m\u001b[0m\u001b[1;33m\u001b[0m\u001b[0m\n\u001b[0m\u001b[0;32m     45\u001b[0m         \u001b[1;32melse\u001b[0m\u001b[1;33m:\u001b[0m\u001b[1;33m\u001b[0m\u001b[1;33m\u001b[0m\u001b[0m\n\u001b[0;32m     46\u001b[0m             \u001b[0mdata\u001b[0m \u001b[1;33m=\u001b[0m \u001b[0mself\u001b[0m\u001b[1;33m.\u001b[0m\u001b[0mdataset\u001b[0m\u001b[1;33m[\u001b[0m\u001b[0mpossibly_batched_index\u001b[0m\u001b[1;33m]\u001b[0m\u001b[1;33m\u001b[0m\u001b[1;33m\u001b[0m\u001b[0m\n",
      "\u001b[1;32mC:\\ProgramData\\Anaconda3\\lib\\site-packages\\torch\\utils\\data\\_utils\\fetch.py\u001b[0m in \u001b[0;36m<listcomp>\u001b[1;34m(.0)\u001b[0m\n\u001b[0;32m     42\u001b[0m     \u001b[1;32mdef\u001b[0m \u001b[0mfetch\u001b[0m\u001b[1;33m(\u001b[0m\u001b[0mself\u001b[0m\u001b[1;33m,\u001b[0m \u001b[0mpossibly_batched_index\u001b[0m\u001b[1;33m)\u001b[0m\u001b[1;33m:\u001b[0m\u001b[1;33m\u001b[0m\u001b[1;33m\u001b[0m\u001b[0m\n\u001b[0;32m     43\u001b[0m         \u001b[1;32mif\u001b[0m \u001b[0mself\u001b[0m\u001b[1;33m.\u001b[0m\u001b[0mauto_collation\u001b[0m\u001b[1;33m:\u001b[0m\u001b[1;33m\u001b[0m\u001b[1;33m\u001b[0m\u001b[0m\n\u001b[1;32m---> 44\u001b[1;33m             \u001b[0mdata\u001b[0m \u001b[1;33m=\u001b[0m \u001b[1;33m[\u001b[0m\u001b[0mself\u001b[0m\u001b[1;33m.\u001b[0m\u001b[0mdataset\u001b[0m\u001b[1;33m[\u001b[0m\u001b[0midx\u001b[0m\u001b[1;33m]\u001b[0m \u001b[1;32mfor\u001b[0m \u001b[0midx\u001b[0m \u001b[1;32min\u001b[0m \u001b[0mpossibly_batched_index\u001b[0m\u001b[1;33m]\u001b[0m\u001b[1;33m\u001b[0m\u001b[1;33m\u001b[0m\u001b[0m\n\u001b[0m\u001b[0;32m     45\u001b[0m         \u001b[1;32melse\u001b[0m\u001b[1;33m:\u001b[0m\u001b[1;33m\u001b[0m\u001b[1;33m\u001b[0m\u001b[0m\n\u001b[0;32m     46\u001b[0m             \u001b[0mdata\u001b[0m \u001b[1;33m=\u001b[0m \u001b[0mself\u001b[0m\u001b[1;33m.\u001b[0m\u001b[0mdataset\u001b[0m\u001b[1;33m[\u001b[0m\u001b[0mpossibly_batched_index\u001b[0m\u001b[1;33m]\u001b[0m\u001b[1;33m\u001b[0m\u001b[1;33m\u001b[0m\u001b[0m\n",
      "\u001b[1;32mC:\\ProgramData\\Anaconda3\\lib\\site-packages\\torchvision\\datasets\\mnist.py\u001b[0m in \u001b[0;36m__getitem__\u001b[1;34m(self, index)\u001b[0m\n\u001b[0;32m    104\u001b[0m \u001b[1;33m\u001b[0m\u001b[0m\n\u001b[0;32m    105\u001b[0m         \u001b[1;32mif\u001b[0m \u001b[0mself\u001b[0m\u001b[1;33m.\u001b[0m\u001b[0mtransform\u001b[0m \u001b[1;32mis\u001b[0m \u001b[1;32mnot\u001b[0m \u001b[1;32mNone\u001b[0m\u001b[1;33m:\u001b[0m\u001b[1;33m\u001b[0m\u001b[1;33m\u001b[0m\u001b[0m\n\u001b[1;32m--> 106\u001b[1;33m             \u001b[0mimg\u001b[0m \u001b[1;33m=\u001b[0m \u001b[0mself\u001b[0m\u001b[1;33m.\u001b[0m\u001b[0mtransform\u001b[0m\u001b[1;33m(\u001b[0m\u001b[0mimg\u001b[0m\u001b[1;33m)\u001b[0m\u001b[1;33m\u001b[0m\u001b[1;33m\u001b[0m\u001b[0m\n\u001b[0m\u001b[0;32m    107\u001b[0m \u001b[1;33m\u001b[0m\u001b[0m\n\u001b[0;32m    108\u001b[0m         \u001b[1;32mif\u001b[0m \u001b[0mself\u001b[0m\u001b[1;33m.\u001b[0m\u001b[0mtarget_transform\u001b[0m \u001b[1;32mis\u001b[0m \u001b[1;32mnot\u001b[0m \u001b[1;32mNone\u001b[0m\u001b[1;33m:\u001b[0m\u001b[1;33m\u001b[0m\u001b[1;33m\u001b[0m\u001b[0m\n",
      "\u001b[1;32mC:\\ProgramData\\Anaconda3\\lib\\site-packages\\torchvision\\transforms\\transforms.py\u001b[0m in \u001b[0;36m__call__\u001b[1;34m(self, img)\u001b[0m\n\u001b[0;32m     65\u001b[0m     \u001b[1;32mdef\u001b[0m \u001b[0m__call__\u001b[0m\u001b[1;33m(\u001b[0m\u001b[0mself\u001b[0m\u001b[1;33m,\u001b[0m \u001b[0mimg\u001b[0m\u001b[1;33m)\u001b[0m\u001b[1;33m:\u001b[0m\u001b[1;33m\u001b[0m\u001b[1;33m\u001b[0m\u001b[0m\n\u001b[0;32m     66\u001b[0m         \u001b[1;32mfor\u001b[0m \u001b[0mt\u001b[0m \u001b[1;32min\u001b[0m \u001b[0mself\u001b[0m\u001b[1;33m.\u001b[0m\u001b[0mtransforms\u001b[0m\u001b[1;33m:\u001b[0m\u001b[1;33m\u001b[0m\u001b[1;33m\u001b[0m\u001b[0m\n\u001b[1;32m---> 67\u001b[1;33m             \u001b[0mimg\u001b[0m \u001b[1;33m=\u001b[0m \u001b[0mt\u001b[0m\u001b[1;33m(\u001b[0m\u001b[0mimg\u001b[0m\u001b[1;33m)\u001b[0m\u001b[1;33m\u001b[0m\u001b[1;33m\u001b[0m\u001b[0m\n\u001b[0m\u001b[0;32m     68\u001b[0m         \u001b[1;32mreturn\u001b[0m \u001b[0mimg\u001b[0m\u001b[1;33m\u001b[0m\u001b[1;33m\u001b[0m\u001b[0m\n\u001b[0;32m     69\u001b[0m \u001b[1;33m\u001b[0m\u001b[0m\n",
      "\u001b[1;32mC:\\ProgramData\\Anaconda3\\lib\\site-packages\\torchvision\\transforms\\transforms.py\u001b[0m in \u001b[0;36m__call__\u001b[1;34m(self, pic)\u001b[0m\n\u001b[0;32m    102\u001b[0m             \u001b[0mTensor\u001b[0m\u001b[1;33m:\u001b[0m \u001b[0mConverted\u001b[0m \u001b[0mimage\u001b[0m\u001b[1;33m.\u001b[0m\u001b[1;33m\u001b[0m\u001b[1;33m\u001b[0m\u001b[0m\n\u001b[0;32m    103\u001b[0m         \"\"\"\n\u001b[1;32m--> 104\u001b[1;33m         \u001b[1;32mreturn\u001b[0m \u001b[0mF\u001b[0m\u001b[1;33m.\u001b[0m\u001b[0mto_tensor\u001b[0m\u001b[1;33m(\u001b[0m\u001b[0mpic\u001b[0m\u001b[1;33m)\u001b[0m\u001b[1;33m\u001b[0m\u001b[1;33m\u001b[0m\u001b[0m\n\u001b[0m\u001b[0;32m    105\u001b[0m \u001b[1;33m\u001b[0m\u001b[0m\n\u001b[0;32m    106\u001b[0m     \u001b[1;32mdef\u001b[0m \u001b[0m__repr__\u001b[0m\u001b[1;33m(\u001b[0m\u001b[0mself\u001b[0m\u001b[1;33m)\u001b[0m\u001b[1;33m:\u001b[0m\u001b[1;33m\u001b[0m\u001b[1;33m\u001b[0m\u001b[0m\n",
      "\u001b[1;32mC:\\ProgramData\\Anaconda3\\lib\\site-packages\\torchvision\\transforms\\functional.py\u001b[0m in \u001b[0;36mto_tensor\u001b[1;34m(pic)\u001b[0m\n\u001b[0;32m    100\u001b[0m     \u001b[0mimg\u001b[0m \u001b[1;33m=\u001b[0m \u001b[0mimg\u001b[0m\u001b[1;33m.\u001b[0m\u001b[0mpermute\u001b[0m\u001b[1;33m(\u001b[0m\u001b[1;33m(\u001b[0m\u001b[1;36m2\u001b[0m\u001b[1;33m,\u001b[0m \u001b[1;36m0\u001b[0m\u001b[1;33m,\u001b[0m \u001b[1;36m1\u001b[0m\u001b[1;33m)\u001b[0m\u001b[1;33m)\u001b[0m\u001b[1;33m.\u001b[0m\u001b[0mcontiguous\u001b[0m\u001b[1;33m(\u001b[0m\u001b[1;33m)\u001b[0m\u001b[1;33m\u001b[0m\u001b[1;33m\u001b[0m\u001b[0m\n\u001b[0;32m    101\u001b[0m     \u001b[1;32mif\u001b[0m \u001b[0misinstance\u001b[0m\u001b[1;33m(\u001b[0m\u001b[0mimg\u001b[0m\u001b[1;33m,\u001b[0m \u001b[0mtorch\u001b[0m\u001b[1;33m.\u001b[0m\u001b[0mByteTensor\u001b[0m\u001b[1;33m)\u001b[0m\u001b[1;33m:\u001b[0m\u001b[1;33m\u001b[0m\u001b[1;33m\u001b[0m\u001b[0m\n\u001b[1;32m--> 102\u001b[1;33m         \u001b[1;32mreturn\u001b[0m \u001b[0mimg\u001b[0m\u001b[1;33m.\u001b[0m\u001b[0mfloat\u001b[0m\u001b[1;33m(\u001b[0m\u001b[1;33m)\u001b[0m\u001b[1;33m.\u001b[0m\u001b[0mdiv\u001b[0m\u001b[1;33m(\u001b[0m\u001b[1;36m255\u001b[0m\u001b[1;33m)\u001b[0m\u001b[1;33m\u001b[0m\u001b[1;33m\u001b[0m\u001b[0m\n\u001b[0m\u001b[0;32m    103\u001b[0m     \u001b[1;32melse\u001b[0m\u001b[1;33m:\u001b[0m\u001b[1;33m\u001b[0m\u001b[1;33m\u001b[0m\u001b[0m\n\u001b[0;32m    104\u001b[0m         \u001b[1;32mreturn\u001b[0m \u001b[0mimg\u001b[0m\u001b[1;33m\u001b[0m\u001b[1;33m\u001b[0m\u001b[0m\n",
      "\u001b[1;31mKeyboardInterrupt\u001b[0m: "
     ]
    }
   ],
   "source": [
    "loss_train_sgd, loss_test_sgd, acc_train_sgd, acc_test_sgd, best_sgd = startTraining(batch_size,epoch,learning_rate_value, \"Adagrad\", weight_decay)\n",
    "\n",
    "print(best_sgd)"
   ]
  },
  {
   "cell_type": "code",
   "execution_count": null,
   "metadata": {},
   "outputs": [],
   "source": [
    "best_sgd"
   ]
  },
  {
   "cell_type": "code",
   "execution_count": null,
   "metadata": {},
   "outputs": [],
   "source": [
    "from torch.optim.lr_scheduler import StepLR\n",
    "\n",
    "def startTraining2(batch_size,epoch,learning_rate_value, optimizer_string, learning_rate_decay):\n",
    "    #start training \n",
    "    start_time = time.time()\n",
    "    print(\"start training for\", optimizer_string)\n",
    "    device = \"cuda\"\n",
    "    \n",
    "    \n",
    "    classifier = classification().to(\"cuda\")\n",
    "    optimizer = torch.optim.SGD(classifier.parameters(), lr=learning_rate_value)\n",
    "    if optimizer_string == \"Adam\":\n",
    "        optimizer = torch.optim.Adam(classifier.parameters(), lr=learning_rate_value)\n",
    "    if optimizer_string == \"RMSprop\":\n",
    "        optimizer = torch.optim.RMSprop(classifier.parameters(), lr=learning_rate_value)\n",
    "    if optimizer_string == \"Adagrad\":\n",
    "        optimizer = torch.optim.Adagrad(classifier.parameters(), lr=learning_rate_value)\n",
    "    criterion = nn.CrossEntropyLoss();\n",
    "    #define array to save values\n",
    "    \n",
    "    scheduler = StepLR(optimizer, step_size=10, gamma = learning_rate_decay)\n",
    "    \n",
    "    \n",
    "    loss_train_arr=np.zeros(epoch)\n",
    "    accuracy_train_arr=np.zeros(epoch)\n",
    "    loss_test_arr=np.zeros(epoch)\n",
    "    accuracy_test_arr=np.zeros(epoch)\n",
    "\n",
    "    batched_train = torch.utils.data.DataLoader(data_train, batch_size, shuffle=True)\n",
    "    batched_test = torch.utils.data.DataLoader(data_test, batch_size, shuffle=True)\n",
    "    \n",
    "    best_accuracy = 0.9\n",
    "    best_epoch = 0;\n",
    "    \n",
    "    for i in range(epoch):\n",
    "        loss_train=0\n",
    "        accuracy_train=0\n",
    "        loss_test=0\n",
    "        accuracy_test=0\n",
    "        \n",
    "        classifier.train()\n",
    "        #train and compute loss, accuracy\n",
    "        for img, label in batched_train:\n",
    "            img=img.to(device)\n",
    "            label=label.to(device)\n",
    "            optimizer.zero_grad()\n",
    "            predicted = classifier(img)\n",
    "\n",
    "            label_predicted = torch.argmax(predicted,dim=1)\n",
    "            loss = criterion(predicted, label)\n",
    "            loss.backward()\n",
    "            optimizer.step()\n",
    "            \n",
    "\n",
    "            loss_train += loss.item()\n",
    "            accuracy_train += torch.sum(label_predicted==label)\n",
    "        scheduler.step()\n",
    "\n",
    "        loss_train_arr[i]=loss_train/(len(batched_train)) \n",
    "        accuracy_train_arr[i]=accuracy_train/len(batched_train.dataset)\n",
    "        \n",
    "        classifier.eval()\n",
    "        #test, no need to backward, step\n",
    "        for img, label in batched_test:\n",
    "            img=img.to(device)\n",
    "            label=label.to(device)\n",
    "            \n",
    "            with torch.autograd.no_grad():\n",
    "                predicted = classifier(img)\n",
    "                label_predicted = torch.argmax(predicted,dim=1)\n",
    "                loss = criterion(predicted, label)\n",
    "\n",
    "                loss_test += loss.item()\n",
    "                accuracy_test += torch.sum(label_predicted==label)\n",
    "\n",
    "        loss_test_arr[i]=loss_test/(len(batched_test))\n",
    "        accuracy_test_arr[i]=accuracy_test/len(batched_test.dataset)\n",
    "        \n",
    "        if accuracy_test_arr[i] > best_accuracy:\n",
    "            best_accuracy = accuracy_test_arr[i]\n",
    "            best_epoch = i\n",
    "            print(\"epoch \", i, \"reached best accuracy \", best_accuracy, '%');\n",
    "        \n",
    "\n",
    "        if i%10==0:\n",
    "            print(\"epoch \",i)\n",
    "            print(\"train loss\", loss_train_arr[i],\"train accuracy: \",accuracy_train_arr[i])\n",
    "            print(\"test loss\", loss_test_arr[i],\"test accuracy\", accuracy_test_arr[i])\n",
    "            \n",
    "    print(\"execution time =======\", time.time()-start_time)\n",
    "    \n",
    "    \n",
    "    return loss_train_arr, loss_test_arr, accuracy_train_arr, accuracy_test_arr, best_epoch\n"
   ]
  },
  {
   "cell_type": "code",
   "execution_count": 160,
   "metadata": {},
   "outputs": [],
   "source": [
    "batch_size = 128\n",
    "epoch = 50\n",
    "learning_rate_value = 0.2\n",
    "lr_decay = 0.6"
   ]
  },
  {
   "cell_type": "code",
   "execution_count": null,
   "metadata": {},
   "outputs": [],
   "source": [
    "loss_train_rms, loss_test_rms, acc_train_rms, acc_test_rms, best_rms = startTraining2(batch_size,epoch,learning_rate_value, \"RMSProp\",lr_decay)\n",
    "\n",
    "print(best_rms)"
   ]
  },
  {
   "cell_type": "code",
   "execution_count": 162,
   "metadata": {},
   "outputs": [
    {
     "name": "stdout",
     "output_type": "stream",
     "text": [
      "start training for Sgd\n",
      "epoch  0\n",
      "train loss 0.8510473887377148 train accuracy:  0.7264999747276306\n",
      "test loss 1.2342639541320963 test accuracy 0.6437833309173584\n",
      "epoch  2 reached best accuracy  0.9074333310127258 %\n",
      "epoch  3 reached best accuracy  0.9287000298500061 %\n",
      "epoch  5 reached best accuracy  0.9396166801452637 %\n",
      "epoch  7 reached best accuracy  0.9454333186149597 %\n",
      "epoch  9 reached best accuracy  0.9524833559989929 %\n",
      "epoch  10 reached best accuracy  0.9534833431243896 %\n",
      "epoch  10\n",
      "train loss 0.06384112799092184 train accuracy:  0.9805999994277954\n",
      "test loss 0.16636217145650373 test accuracy 0.9534833431243896\n",
      "epoch  13 reached best accuracy  0.9550166726112366 %\n",
      "epoch  14 reached best accuracy  0.9554499983787537 %\n",
      "epoch  18 reached best accuracy  0.9569500088691711 %\n",
      "epoch  20 reached best accuracy  0.9571999907493591 %\n",
      "epoch  20\n",
      "train loss 0.03672759025062941 train accuracy:  0.9899999499320984\n",
      "test loss 0.16474004056471497 test accuracy 0.9571999907493591\n",
      "epoch  22 reached best accuracy  0.9577000141143799 %\n",
      "epoch  23 reached best accuracy  0.9580833315849304 %\n",
      "epoch  26 reached best accuracy  0.9581833481788635 %\n",
      "epoch  29 reached best accuracy  0.958733320236206 %\n",
      "epoch  30\n",
      "train loss 0.01773882726254531 train accuracy:  0.9949999451637268\n",
      "test loss 0.1709698872046986 test accuracy 0.9586166739463806\n",
      "epoch  32 reached best accuracy  0.9588500261306763 %\n",
      "epoch  39 reached best accuracy  0.9591166973114014 %\n",
      "epoch  40\n",
      "train loss 0.01593696705767107 train accuracy:  0.9955999851226807\n",
      "test loss 0.17494934053420386 test accuracy 0.9585333466529846\n",
      "epoch  44 reached best accuracy  0.9591667056083679 %\n",
      "execution time ======= 603.2569353580475\n",
      "0.9591667056083679\n"
     ]
    }
   ],
   "source": [
    "loss_train_sgd, loss_test_sgd, acc_train_sgd, acc_test_sgd, best_sgd = startTraining2(batch_size,epoch,learning_rate_value, \"Sgd\", lr_decay)\n",
    "\n",
    "print(acc_test_sgd[best_sgd])"
   ]
  },
  {
   "cell_type": "code",
   "execution_count": 163,
   "metadata": {},
   "outputs": [],
   "source": [
    "layer_2 = 20*20\n",
    "layer_3 = 14*14\n",
    "\n",
    "class classification(nn.Module):\n",
    "    def __init__(self):\n",
    "        super(classification, self).__init__()\n",
    "        \n",
    "        # construct layers for a neural network\n",
    "        self.classifier1 = nn.Sequential(\n",
    "            nn.Linear(in_features=28*28, out_features=layer_2),\n",
    "            nn.ReLU(),\n",
    "        ) \n",
    "        self.classifier2 = nn.Sequential(\n",
    "            nn.Linear(in_features=layer_2, out_features=layer_3),\n",
    "            nn.ReLU(),\n",
    "        ) \n",
    "        self.classifier3 = nn.Sequential(\n",
    "            nn.Linear(in_features=layer_3, out_features=10),\n",
    "        ) \n",
    "        \n",
    "        \n",
    "    def forward(self, inputs):                 \n",
    "        x = inputs.view(inputs.size(0), -1)    \n",
    "        \n",
    "        x = self.classifier1(x)               \n",
    "        x = F.dropout(x, p = 0.5, training=self.training) # use dropout when training\n",
    "        \n",
    "        x = self.classifier2(x)\n",
    "        x = F.dropout(x, p = 0.4, training=self.training)\n",
    "       \n",
    "        out = self.classifier3(x)              \n",
    "        \n",
    "        return out\n"
   ]
  },
  {
   "cell_type": "code",
   "execution_count": 167,
   "metadata": {},
   "outputs": [],
   "source": [
    "batch_size = 32\n",
    "epoch = 50\n",
    "learning_rate_value = 0.1\n",
    "lr_decay=0.7"
   ]
  },
  {
   "cell_type": "code",
   "execution_count": 168,
   "metadata": {},
   "outputs": [],
   "source": [
    "from torch.optim.lr_scheduler import StepLR\n",
    "\n",
    "def startTraining3(batch_size,epoch,learning_rate_value, optimizer_string, learning_rate_decay):\n",
    "    #start training \n",
    "    start_time = time.time()\n",
    "    print(\"start training for\", optimizer_string)\n",
    "    device = \"cuda\"\n",
    "    \n",
    "    \n",
    "    classifier = classification().to(\"cuda\")\n",
    "    optimizer = torch.optim.SGD(classifier.parameters(), lr=learning_rate_value)\n",
    "    if optimizer_string == \"Adam\":\n",
    "        optimizer = torch.optim.Adam(classifier.parameters(), lr=learning_rate_value)\n",
    "    if optimizer_string == \"RMSprop\":\n",
    "        optimizer = torch.optim.RMSprop(classifier.parameters(), lr=learning_rate_value)\n",
    "    if optimizer_string == \"Adagrad\":\n",
    "        optimizer = torch.optim.Adagrad(classifier.parameters(), lr=learning_rate_value)\n",
    "    criterion = nn.CrossEntropyLoss();\n",
    "    #define array to save values\n",
    "    \n",
    "    scheduler = StepLR(optimizer, step_size=10, gamma = learning_rate_decay)\n",
    "    \n",
    "    \n",
    "    loss_train_arr=np.zeros(epoch)\n",
    "    accuracy_train_arr=np.zeros(epoch)\n",
    "    loss_test_arr=np.zeros(epoch)\n",
    "    accuracy_test_arr=np.zeros(epoch)\n",
    "\n",
    "    batched_train = torch.utils.data.DataLoader(data_train, batch_size, shuffle=True)\n",
    "    batched_test = torch.utils.data.DataLoader(data_test, batch_size, shuffle=True)\n",
    "    \n",
    "    best_accuracy = 0.9\n",
    "    best_epoch = 0;\n",
    "    \n",
    "    for i in range(epoch):\n",
    "        loss_train=0\n",
    "        accuracy_train=0\n",
    "        loss_test=0\n",
    "        accuracy_test=0\n",
    "        \n",
    "        classifier.train()\n",
    "        #train and compute loss, accuracy\n",
    "        for img, label in batched_train:\n",
    "            img=img.to(device)\n",
    "            label=label.to(device)\n",
    "            optimizer.zero_grad()\n",
    "            predicted = classifier(img)\n",
    "\n",
    "            label_predicted = torch.argmax(predicted,dim=1)\n",
    "            loss = criterion(predicted, label)\n",
    "            loss.backward()\n",
    "            optimizer.step()\n",
    "            \n",
    "\n",
    "            loss_train += loss.item()\n",
    "            accuracy_train += torch.sum(label_predicted==label)\n",
    "        scheduler.step()\n",
    "\n",
    "        loss_train_arr[i]=loss_train/(len(batched_train)) \n",
    "        accuracy_train_arr[i]=accuracy_train/len(batched_train.dataset)\n",
    "        \n",
    "        classifier.eval()\n",
    "        #test, no need to backward, step\n",
    "        for img, label in batched_test:\n",
    "            img=img.to(device)\n",
    "            label=label.to(device)\n",
    "            \n",
    "            with torch.autograd.no_grad():\n",
    "                predicted = classifier(img)\n",
    "                label_predicted = torch.argmax(predicted,dim=1)\n",
    "                loss = criterion(predicted, label)\n",
    "\n",
    "                loss_test += loss.item()\n",
    "                accuracy_test += torch.sum(label_predicted==label)\n",
    "\n",
    "        loss_test_arr[i]=loss_test/(len(batched_test))\n",
    "        accuracy_test_arr[i]=accuracy_test/len(batched_test.dataset)\n",
    "        \n",
    "        if accuracy_test_arr[i] > best_accuracy:\n",
    "            best_accuracy = accuracy_test_arr[i]\n",
    "            best_epoch = i\n",
    "            print(\"epoch \", i, \"reached best accuracy \", best_accuracy, '%');\n",
    "        \n",
    "\n",
    "        if i%10==0:\n",
    "            print(\"epoch \",i)\n",
    "            print(\"train loss\", loss_train_arr[i],\"train accuracy: \",accuracy_train_arr[i])\n",
    "            print(\"test loss\", loss_test_arr[i],\"test accuracy\", accuracy_test_arr[i])\n",
    "            \n",
    "    print(\"execution time =======\", time.time()-start_time)\n",
    "    \n",
    "    \n",
    "    return loss_train_arr, loss_test_arr, accuracy_train_arr, accuracy_test_arr, best_epoch\n"
   ]
  },
  {
   "cell_type": "code",
   "execution_count": 169,
   "metadata": {},
   "outputs": [
    {
     "name": "stdout",
     "output_type": "stream",
     "text": [
      "start training for Sgd\n",
      "epoch  0 reached best accuracy  0.9048166871070862 %\n",
      "epoch  0\n",
      "train loss 0.6557418271994438 train accuracy:  0.789900004863739\n",
      "test loss 0.3230255912860235 test accuracy 0.9048166871070862\n",
      "epoch  1 reached best accuracy  0.9291166663169861 %\n",
      "epoch  2 reached best accuracy  0.940583348274231 %\n",
      "epoch  5 reached best accuracy  0.9433667063713074 %\n",
      "epoch  6 reached best accuracy  0.95496666431427 %\n",
      "epoch  8 reached best accuracy  0.9560166597366333 %\n",
      "epoch  9 reached best accuracy  0.9569166898727417 %\n",
      "epoch  10\n",
      "train loss 0.07209494718523048 train accuracy:  0.9768999814987183\n",
      "test loss 0.1716605974928631 test accuracy 0.9566166996955872\n",
      "epoch  12 reached best accuracy  0.9586333632469177 %\n",
      "epoch  13 reached best accuracy  0.9602167010307312 %\n",
      "epoch  15 reached best accuracy  0.9606833457946777 %\n",
      "epoch  19 reached best accuracy  0.9608833193778992 %\n",
      "epoch  20 reached best accuracy  0.9623000025749207 %\n",
      "epoch  20\n",
      "train loss 0.02987210369522359 train accuracy:  0.9905999898910522\n",
      "test loss 0.16843070086273365 test accuracy 0.9623000025749207\n",
      "epoch  24 reached best accuracy  0.9629833698272705 %\n",
      "epoch  25 reached best accuracy  0.963200032711029 %\n",
      "epoch  30\n",
      "train loss 0.016118723340382488 train accuracy:  0.995199978351593\n",
      "test loss 0.18240786853767882 test accuracy 0.9631167054176331\n",
      "epoch  31 reached best accuracy  0.9633166790008545 %\n",
      "epoch  32 reached best accuracy  0.9634166955947876 %\n",
      "epoch  37 reached best accuracy  0.9639166593551636 %\n",
      "epoch  40\n",
      "train loss 0.013111408719211909 train accuracy:  0.9958999752998352\n",
      "test loss 0.1840189119874866 test accuracy 0.963450014591217\n",
      "epoch  43 reached best accuracy  0.9639333486557007 %\n",
      "epoch  44 reached best accuracy  0.9640333652496338 %\n",
      "epoch  49 reached best accuracy  0.9643000364303589 %\n",
      "execution time ======= 730.6841428279877\n",
      "0.9643000364303589\n"
     ]
    }
   ],
   "source": [
    "loss_train_sgd2, loss_test_sgd2, acc_train_sgd2, acc_test_sgd2, best_sgd2 = startTraining3(batch_size,epoch,learning_rate_value, \"Sgd\", lr_decay)\n",
    "\n",
    "print(acc_test_sgd2[best_sgd2])"
   ]
  },
  {
   "cell_type": "markdown",
   "metadata": {},
   "source": [
    "# Outputs"
   ]
  },
  {
   "cell_type": "markdown",
   "metadata": {},
   "source": [
    "# 1. Plot the training and testing losses over epochs [2pt]"
   ]
  },
  {
   "cell_type": "code",
   "execution_count": 173,
   "metadata": {},
   "outputs": [
    {
     "data": {
      "text/plain": [
       "[]"
      ]
     },
     "execution_count": 173,
     "metadata": {},
     "output_type": "execute_result"
    },
    {
     "data": {
      "image/png": "[encoded data removed]",
      "text/plain": [
       "<Figure size 720x720 with 1 Axes>"
      ]
     },
     "metadata": {
      "needs_background": "light"
     },
     "output_type": "display_data"
    }
   ],
   "source": [
    "plt.figure(1,figsize=(10,10))\n",
    "\n",
    "plt.plot(loss_train_sgd2,label=\"train loss\",c=\"red\")\n",
    "plt.plot(loss_test_sgd2,label=\"test loss\",c=\"blue\")\n",
    "plt.title(\"Loss\")\n",
    "plt.legend()\n",
    "plt.plot()"
   ]
  },
  {
   "cell_type": "markdown",
   "metadata": {},
   "source": [
    "# 2. Plot the training and testing accuracies over epochs [2pt]"
   ]
  },
  {
   "cell_type": "code",
   "execution_count": 175,
   "metadata": {},
   "outputs": [
    {
     "data": {
      "text/plain": [
       "[]"
      ]
     },
     "execution_count": 175,
     "metadata": {},
     "output_type": "execute_result"
    },
    {
     "data": {
      "image/png": "[encoded data removed]",
      "text/plain": [
       "<Figure size 720x720 with 1 Axes>"
      ]
     },
     "metadata": {
      "needs_background": "light"
     },
     "output_type": "display_data"
    }
   ],
   "source": [
    "plt.figure(1,figsize=(10,10))\n",
    "\n",
    "plt.plot(acc_train_sgd2,label=\"train accuracy\",c=\"red\")\n",
    "plt.plot(acc_test_sgd2,label=\"test accuracy\",c=\"blue\")\n",
    "plt.title(\"Accuracy\")\n",
    "plt.legend(loc=4)\n",
    "plt.plot()"
   ]
  },
  {
   "cell_type": "markdown",
   "metadata": {},
   "source": [
    "# 3. Print the final training and testing losses at convergence [2pt]"
   ]
  },
  {
   "cell_type": "code",
   "execution_count": 171,
   "metadata": {},
   "outputs": [
    {
     "name": "stdout",
     "output_type": "stream",
     "text": [
      "training loss   0.008669205423893945\n",
      "testing loss    0.1909789605850897\n"
     ]
    }
   ],
   "source": [
    "print(\"training loss  \",loss_train_sgd2[49])\n",
    "print(\"testing loss   \",loss_test_sgd2[49])"
   ]
  },
  {
   "cell_type": "code",
   "execution_count": 176,
   "metadata": {},
   "outputs": [
    {
     "name": "stdout",
     "output_type": "stream",
     "text": [
      "training accuracy   0.9972999691963196\n",
      "testing accuracy    0.9643000364303589\n"
     ]
    }
   ],
   "source": [
    "print(\"training accuracy  \",acc_train_sgd2[49])\n",
    "print(\"testing accuracy   \",acc_test_sgd2[49])"
   ]
  },
  {
   "cell_type": "code",
   "execution_count": null,
   "metadata": {},
   "outputs": [],
   "source": []
  }
 ],
 "metadata": {
  "kernelspec": {
   "display_name": "Python 3",
   "language": "python",
   "name": "python3"
  },
  "language_info": {
   "codemirror_mode": {
    "name": "ipython",
    "version": 3
   },
   "file_extension": ".py",
   "mimetype": "text/x-python",
   "name": "python",
   "nbconvert_exporter": "python",
   "pygments_lexer": "ipython3",
   "version": "3.8.3"
  }
 },
 "nbformat": 4,
 "nbformat_minor": 4
}
