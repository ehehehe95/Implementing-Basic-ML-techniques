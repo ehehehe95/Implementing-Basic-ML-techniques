{
  "nbformat": 4,
  "nbformat_minor": 0,
  "metadata": {
    "colab": {
      "name": "Untitled",
      "provenance": [],
      "collapsed_sections": [],
      "authorship_tag": "ABX9TyMY/jj8cXTnIzF22DBK/vn3",
      "include_colab_link": true
    },
    "kernelspec": {
      "name": "python3",
      "display_name": "Python 3"
    }
  },
  "cells": [
    {
      "cell_type": "markdown",
      "metadata": {
        "id": "view-in-github",
        "colab_type": "text"
      },
      "source": [
        "<a href=\"https://colab.research.google.com/github/ehehehe95/MachineLearningProject/blob/master/LaTeX.ipynb\" target=\"_parent\"><img src=\"https://colab.research.google.com/assets/colab-badge.svg\" alt=\"Open In Colab\"/></a>"
      ]
    },
    {
      "cell_type": "markdown",
      "metadata": {
        "id": "MjldGltD7RRm",
        "colab_type": "text"
      },
      "source": [
        "Assignment 01 LaTeX 20140588 조용훈"
      ]
    },
    {
      "cell_type": "markdown",
      "metadata": {
        "id": "wem89lzU7dJp",
        "colab_type": "text"
      },
      "source": [
        "$(1)\\,f(x)=ax^{2}+bx+c$\\\n",
        "$(2)\\,f(x)=\\exp(x)$\\\n",
        "$(3)\\,f(x)={}^{a}_{b},\\;a\\in\\mathbb{R},b\\in\\mathbb{R}$\\\n",
        "$(4)\\,f(x)=\\sum^{n}_{i=1}x_{i},\\;x=(x_1,x_2,\\ldots,x_n)$\\\n",
        "$(5)\\,f(x)=\\int_{\\Omega}{\\sigma}(x,t)dt$\\\n",
        "$(6)\\;{}^{\\partial\\mathbb{E}}_{\\partial{w}}$"
      ]
    },
    {
      "cell_type": "markdown",
      "metadata": {
        "colab_type": "text",
        "id": "SrBm1jq8Ce8T"
      },
      "source": [
        "$(1)\\,f(x)=ax^{2}+bx+c$\\\n",
        "$(2)\\,f(x)=\\exp(x)$\\\n",
        "$(3)\\,f(x)={}^{a}_{b},\\;a\\in\\mathbb{R},b\\in\\mathbb{R}$\\\n",
        "$(4)\\,f(x)=\\sum^{n}_{i=1}x_{i},\\;x=(x_1,x_2,\\ldots,x_n)$\\\n",
        "$(5)\\,f(x)=\\int_{\\Omega}{\\sigma}(x,t)dt$\\\n",
        "$(6)\\;{}^{\\partial\\mathbb{E}}_{\\partial{w}}$"
      ]
    },
    {
      "cell_type": "code",
      "metadata": {
        "id": "NBH5LjjR9bYo",
        "colab_type": "code",
        "colab": {}
      },
      "source": [
        ""
      ],
      "execution_count": null,
      "outputs": []
    }
  ]
}